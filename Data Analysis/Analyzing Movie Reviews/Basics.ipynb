{
 "cells": [
  {
   "cell_type": "markdown",
   "metadata": {},
   "source": [
    "# Rating differences between Fantango and other movie reviews websites"
   ]
  },
  {
   "cell_type": "code",
   "execution_count": 86,
   "metadata": {
    "collapsed": false
   },
   "outputs": [
    {
     "data": {
      "text/html": [
       "<div>\n",
       "<table border=\"1\" class=\"dataframe\">\n",
       "  <thead>\n",
       "    <tr style=\"text-align: right;\">\n",
       "      <th></th>\n",
       "      <th>FILM</th>\n",
       "      <th>RottenTomatoes</th>\n",
       "      <th>RottenTomatoes_User</th>\n",
       "      <th>Metacritic</th>\n",
       "      <th>Metacritic_User</th>\n",
       "      <th>IMDB</th>\n",
       "      <th>Fandango_Stars</th>\n",
       "      <th>Fandango_Ratingvalue</th>\n",
       "      <th>RT_norm</th>\n",
       "      <th>RT_user_norm</th>\n",
       "      <th>...</th>\n",
       "      <th>IMDB_norm</th>\n",
       "      <th>RT_norm_round</th>\n",
       "      <th>RT_user_norm_round</th>\n",
       "      <th>Metacritic_norm_round</th>\n",
       "      <th>Metacritic_user_norm_round</th>\n",
       "      <th>IMDB_norm_round</th>\n",
       "      <th>Metacritic_user_vote_count</th>\n",
       "      <th>IMDB_user_vote_count</th>\n",
       "      <th>Fandango_votes</th>\n",
       "      <th>Fandango_Difference</th>\n",
       "    </tr>\n",
       "  </thead>\n",
       "  <tbody>\n",
       "    <tr>\n",
       "      <th>0</th>\n",
       "      <td>Avengers: Age of Ultron (2015)</td>\n",
       "      <td>74</td>\n",
       "      <td>86</td>\n",
       "      <td>66</td>\n",
       "      <td>7.1</td>\n",
       "      <td>7.8</td>\n",
       "      <td>5.0</td>\n",
       "      <td>4.5</td>\n",
       "      <td>3.70</td>\n",
       "      <td>4.3</td>\n",
       "      <td>...</td>\n",
       "      <td>3.90</td>\n",
       "      <td>3.5</td>\n",
       "      <td>4.5</td>\n",
       "      <td>3.5</td>\n",
       "      <td>3.5</td>\n",
       "      <td>4.0</td>\n",
       "      <td>1330</td>\n",
       "      <td>271107</td>\n",
       "      <td>14846</td>\n",
       "      <td>0.5</td>\n",
       "    </tr>\n",
       "    <tr>\n",
       "      <th>1</th>\n",
       "      <td>Cinderella (2015)</td>\n",
       "      <td>85</td>\n",
       "      <td>80</td>\n",
       "      <td>67</td>\n",
       "      <td>7.5</td>\n",
       "      <td>7.1</td>\n",
       "      <td>5.0</td>\n",
       "      <td>4.5</td>\n",
       "      <td>4.25</td>\n",
       "      <td>4.0</td>\n",
       "      <td>...</td>\n",
       "      <td>3.55</td>\n",
       "      <td>4.5</td>\n",
       "      <td>4.0</td>\n",
       "      <td>3.5</td>\n",
       "      <td>4.0</td>\n",
       "      <td>3.5</td>\n",
       "      <td>249</td>\n",
       "      <td>65709</td>\n",
       "      <td>12640</td>\n",
       "      <td>0.5</td>\n",
       "    </tr>\n",
       "    <tr>\n",
       "      <th>2</th>\n",
       "      <td>Ant-Man (2015)</td>\n",
       "      <td>80</td>\n",
       "      <td>90</td>\n",
       "      <td>64</td>\n",
       "      <td>8.1</td>\n",
       "      <td>7.8</td>\n",
       "      <td>5.0</td>\n",
       "      <td>4.5</td>\n",
       "      <td>4.00</td>\n",
       "      <td>4.5</td>\n",
       "      <td>...</td>\n",
       "      <td>3.90</td>\n",
       "      <td>4.0</td>\n",
       "      <td>4.5</td>\n",
       "      <td>3.0</td>\n",
       "      <td>4.0</td>\n",
       "      <td>4.0</td>\n",
       "      <td>627</td>\n",
       "      <td>103660</td>\n",
       "      <td>12055</td>\n",
       "      <td>0.5</td>\n",
       "    </tr>\n",
       "    <tr>\n",
       "      <th>3</th>\n",
       "      <td>Do You Believe? (2015)</td>\n",
       "      <td>18</td>\n",
       "      <td>84</td>\n",
       "      <td>22</td>\n",
       "      <td>4.7</td>\n",
       "      <td>5.4</td>\n",
       "      <td>5.0</td>\n",
       "      <td>4.5</td>\n",
       "      <td>0.90</td>\n",
       "      <td>4.2</td>\n",
       "      <td>...</td>\n",
       "      <td>2.70</td>\n",
       "      <td>1.0</td>\n",
       "      <td>4.0</td>\n",
       "      <td>1.0</td>\n",
       "      <td>2.5</td>\n",
       "      <td>2.5</td>\n",
       "      <td>31</td>\n",
       "      <td>3136</td>\n",
       "      <td>1793</td>\n",
       "      <td>0.5</td>\n",
       "    </tr>\n",
       "    <tr>\n",
       "      <th>4</th>\n",
       "      <td>Hot Tub Time Machine 2 (2015)</td>\n",
       "      <td>14</td>\n",
       "      <td>28</td>\n",
       "      <td>29</td>\n",
       "      <td>3.4</td>\n",
       "      <td>5.1</td>\n",
       "      <td>3.5</td>\n",
       "      <td>3.0</td>\n",
       "      <td>0.70</td>\n",
       "      <td>1.4</td>\n",
       "      <td>...</td>\n",
       "      <td>2.55</td>\n",
       "      <td>0.5</td>\n",
       "      <td>1.5</td>\n",
       "      <td>1.5</td>\n",
       "      <td>1.5</td>\n",
       "      <td>2.5</td>\n",
       "      <td>88</td>\n",
       "      <td>19560</td>\n",
       "      <td>1021</td>\n",
       "      <td>0.5</td>\n",
       "    </tr>\n",
       "  </tbody>\n",
       "</table>\n",
       "<p>5 rows × 22 columns</p>\n",
       "</div>"
      ],
      "text/plain": [
       "                             FILM  RottenTomatoes  RottenTomatoes_User  \\\n",
       "0  Avengers: Age of Ultron (2015)              74                   86   \n",
       "1               Cinderella (2015)              85                   80   \n",
       "2                  Ant-Man (2015)              80                   90   \n",
       "3          Do You Believe? (2015)              18                   84   \n",
       "4   Hot Tub Time Machine 2 (2015)              14                   28   \n",
       "\n",
       "   Metacritic  Metacritic_User  IMDB  Fandango_Stars  Fandango_Ratingvalue  \\\n",
       "0          66              7.1   7.8             5.0                   4.5   \n",
       "1          67              7.5   7.1             5.0                   4.5   \n",
       "2          64              8.1   7.8             5.0                   4.5   \n",
       "3          22              4.7   5.4             5.0                   4.5   \n",
       "4          29              3.4   5.1             3.5                   3.0   \n",
       "\n",
       "   RT_norm  RT_user_norm         ...           IMDB_norm  RT_norm_round  \\\n",
       "0     3.70           4.3         ...                3.90            3.5   \n",
       "1     4.25           4.0         ...                3.55            4.5   \n",
       "2     4.00           4.5         ...                3.90            4.0   \n",
       "3     0.90           4.2         ...                2.70            1.0   \n",
       "4     0.70           1.4         ...                2.55            0.5   \n",
       "\n",
       "   RT_user_norm_round  Metacritic_norm_round  Metacritic_user_norm_round  \\\n",
       "0                 4.5                    3.5                         3.5   \n",
       "1                 4.0                    3.5                         4.0   \n",
       "2                 4.5                    3.0                         4.0   \n",
       "3                 4.0                    1.0                         2.5   \n",
       "4                 1.5                    1.5                         1.5   \n",
       "\n",
       "   IMDB_norm_round  Metacritic_user_vote_count  IMDB_user_vote_count  \\\n",
       "0              4.0                        1330                271107   \n",
       "1              3.5                         249                 65709   \n",
       "2              4.0                         627                103660   \n",
       "3              2.5                          31                  3136   \n",
       "4              2.5                          88                 19560   \n",
       "\n",
       "   Fandango_votes  Fandango_Difference  \n",
       "0           14846                  0.5  \n",
       "1           12640                  0.5  \n",
       "2           12055                  0.5  \n",
       "3            1793                  0.5  \n",
       "4            1021                  0.5  \n",
       "\n",
       "[5 rows x 22 columns]"
      ]
     },
     "execution_count": 86,
     "metadata": {},
     "output_type": "execute_result"
    }
   ],
   "source": [
    "import pandas as pd\n",
    "import matplotlib.pyplot as plt\n",
    "import numpy as np\n",
    "\n",
    "%matplotlib inline\n",
    "movies = pd.read_csv('fandango_score_comparison.csv')\n",
    "movies.head()"
   ]
  },
  {
   "cell_type": "markdown",
   "metadata": {},
   "source": [
    "## Rating distribution"
   ]
  },
  {
   "cell_type": "code",
   "execution_count": 84,
   "metadata": {
    "collapsed": false
   },
   "outputs": [
    {
     "data": {
      "image/png": "[encoded data removed]",
      "text/plain": [
       "<matplotlib.figure.Figure at 0x11044fdd8>"
      ]
     },
     "metadata": {},
     "output_type": "display_data"
    }
   ],
   "source": [
    "plt.hist(movies['Fandango_Stars'],range=(0,5.5),bins=11, align='left', normed=True)\n",
    "plt.title('Fandango ratings')\n",
    "plt.gca().spines['right'].set_visible(False)\n",
    "plt.gca().spines['top'].set_visible(False)\n",
    "plt.gca().spines['left'].set_visible(False)\n",
    "plt.tick_params(left='off')\n",
    "plt.show()"
   ]
  },
  {
   "cell_type": "code",
   "execution_count": 71,
   "metadata": {
    "collapsed": false
   },
   "outputs": [
    {
     "data": {
      "image/png": "[encoded data removed]",
      "text/plain": [
       "<matplotlib.figure.Figure at 0x110044be0>"
      ]
     },
     "metadata": {},
     "output_type": "display_data"
    }
   ],
   "source": [
    "plt.hist(movies['Metacritic_norm_round'],bins=11,range=(0,5.5),align='left',normed=True)\n",
    "plt.title('Metacritic ratings (critics)')\n",
    "plt.gca().spines['right'].set_visible(False)\n",
    "plt.gca().spines['top'].set_visible(False)\n",
    "plt.gca().spines['left'].set_visible(False)\n",
    "plt.tick_params(left='off')\n",
    "plt.show()"
   ]
  },
  {
   "cell_type": "markdown",
   "metadata": {},
   "source": [
    "After looking at both websites, I can see that Metacritic ratings are more precise : out of 10 with a step of 1, rather than 5 with a step of 1 for Fandango.\n",
    "\n",
    "We can see that Metacritic ratings are much more equally distributed than Fandango's, it is perhaps indicating that Fandango's ratings are biased. "
   ]
  },
  {
   "cell_type": "code",
   "execution_count": 36,
   "metadata": {
    "collapsed": false
   },
   "outputs": [
    {
     "data": {
      "image/png": "[encoded data removed]",
      "text/plain": [
       "<matplotlib.figure.Figure at 0x10fe35898>"
      ]
     },
     "metadata": {},
     "output_type": "display_data"
    }
   ],
   "source": [
    "plt.hist(movies['IMDB_norm_round'],range=(0,5.5),bins=11, align='left', normed=True)\n",
    "plt.title('IMDB ratings')\n",
    "plt.gca().spines['right'].set_visible(False)\n",
    "plt.gca().spines['top'].set_visible(False)\n",
    "plt.gca().spines['left'].set_visible(False)\n",
    "plt.tick_params(left='off')\n",
    "plt.show()"
   ]
  },
  {
   "cell_type": "markdown",
   "metadata": {},
   "source": [
    "We can see that IMDB ratings are more clustered than Metacritic, but still less than Fandango. Also, the values tend to be lower."
   ]
  },
  {
   "cell_type": "code",
   "execution_count": 72,
   "metadata": {
    "collapsed": false
   },
   "outputs": [
    {
     "data": {
      "image/png": "[encoded data removed]",
      "text/plain": [
       "<matplotlib.figure.Figure at 0x1101938d0>"
      ]
     },
     "metadata": {},
     "output_type": "display_data"
    }
   ],
   "source": [
    "plt.hist(movies['RT_norm_round'],range=(0,5.5),bins=11, align='left', normed=True)\n",
    "plt.title('Rotten Tomatoes ratings (critics)')\n",
    "plt.gca().spines['right'].set_visible(False)\n",
    "plt.gca().spines['top'].set_visible(False)\n",
    "plt.gca().spines['left'].set_visible(False)\n",
    "plt.tick_params(left='off')\n",
    "plt.show()"
   ]
  },
  {
   "cell_type": "markdown",
   "metadata": {},
   "source": [
    "The ratings at Rotten Tomatoes are spread out, and more towards the extremes than Metacritic."
   ]
  },
  {
   "cell_type": "markdown",
   "metadata": {},
   "source": [
    "## Mean, median, standard deviation"
   ]
  },
  {
   "cell_type": "code",
   "execution_count": 60,
   "metadata": {
    "collapsed": false
   },
   "outputs": [
    {
     "data": {
      "text/plain": [
       "{'fandango_mean': 4.09,\n",
       " 'fandango_median': 4.0,\n",
       " 'fandango_std': 0.54,\n",
       " 'imdb_mean': 3.38,\n",
       " 'imdb_median': 3.5,\n",
       " 'imdb_std': 0.5,\n",
       " 'metacritic_mean': 2.97,\n",
       " 'metacritic_median': 3.0,\n",
       " 'metacritic_std': 0.99,\n",
       " 'rt_mean': 3.07,\n",
       " 'rt_median': 3.0,\n",
       " 'rt_std': 1.51}"
      ]
     },
     "execution_count": 60,
     "metadata": {},
     "output_type": "execute_result"
    }
   ],
   "source": [
    "stats = {}\n",
    "stats['fandango_mean'] = round(np.mean(movies['Fandango_Stars']),2)\n",
    "stats['metacritic_mean'] = round(np.mean(movies['Metacritic_norm_round']),2)\n",
    "stats['imdb_mean'] = round(np.mean(movies['IMDB_norm_round']),2)\n",
    "stats['rt_mean'] = round(np.mean(movies['RT_norm_round']),2)\n",
    "stats['fandango_median'] = round(np.median(movies['Fandango_Stars']),2)\n",
    "stats['metacritic_median'] = round(np.median(movies['Metacritic_norm_round']),2)\n",
    "stats['imdb_median'] = round(np.median(movies['IMDB_norm_round']),2)\n",
    "stats['rt_median'] = round(np.median(movies['RT_norm_round']),2)\n",
    "stats['fandango_std'] = round(np.std(movies['Fandango_Stars']),2)\n",
    "stats['metacritic_std'] = round(np.std(movies['Metacritic_norm_round']),2)\n",
    "stats['imdb_std'] = round(np.std(movies['IMDB_norm_round']),2)\n",
    "stats['rt_std'] = round(np.std(movies['RT_norm_round']),2)\n",
    "stats"
   ]
  },
  {
   "cell_type": "markdown",
   "metadata": {},
   "source": [
    "The mean of Fandango ratings is slightly bigger than the median because there are only a few low ratings compared to the many high ratings.\n",
    "The standard deviation of Fandango is much lower because the ratings are very much clustered.\n",
    "Finally, the mean of Fandango is much higher than the mean of Metacritic and RT because movies tend to have better ratings on fandango. Same thing between Fandango and IMDB, but the gap is smaller.\n",
    "\n",
    "The standard deviation confirms what I said earlier about the histograms : Fandango and IMDB are more clustered than Metacritic and RT. Also, IMDB ratings are slightly more clustered than Fandango (standard deviation of respectively `0.50` and `0.54`) while IMDB ratings tend to be lower than Fandango (mean of respectively `3.38` and `4.09`).\n",
    "\n",
    "Example : \"The Emoji Movie\" has a rating of `1.5/10` on Metacritic (and roughly the same rating on IMDB), so `0.75` stars, a rating of 6% on Rotten Tomatoes (`0.3` stars). Fandango is the only website with a rating of `3` stars ! This is just one example among many others."
   ]
  },
  {
   "cell_type": "markdown",
   "metadata": {},
   "source": [
    "## Finding largest outliers, Fandango vs. Metacritic"
   ]
  },
  {
   "cell_type": "code",
   "execution_count": 6,
   "metadata": {
    "collapsed": false
   },
   "outputs": [
    {
     "data": {
      "image/png": "[encoded data removed]",
      "text/plain": [
       "<matplotlib.figure.Figure at 0x10e0c1be0>"
      ]
     },
     "metadata": {},
     "output_type": "display_data"
    }
   ],
   "source": [
    "plt.scatter(movies['Fandango_Stars'],movies['Metacritic_norm_round'],alpha=0.1)\n",
    "plt.xlim(0,5.5)\n",
    "plt.ylim(0,5.5)\n",
    "plt.xlabel('Fandango')\n",
    "plt.ylabel('Metacritic')\n",
    "plt.show()"
   ]
  },
  {
   "cell_type": "markdown",
   "metadata": {},
   "source": [
    "The movies we want to find are the ones that are at the bottom right of this plot, they have a very high rating difference : very good ratings from Fandango, yet very bad ones from Metacritic."
   ]
  },
  {
   "cell_type": "code",
   "execution_count": 63,
   "metadata": {
    "collapsed": false
   },
   "outputs": [
    {
     "data": {
      "text/html": [
       "<div>\n",
       "<table border=\"1\" class=\"dataframe\">\n",
       "  <thead>\n",
       "    <tr style=\"text-align: right;\">\n",
       "      <th></th>\n",
       "      <th>FILM</th>\n",
       "      <th>fm_diff</th>\n",
       "    </tr>\n",
       "  </thead>\n",
       "  <tbody>\n",
       "    <tr>\n",
       "      <th>3</th>\n",
       "      <td>Do You Believe? (2015)</td>\n",
       "      <td>4.0</td>\n",
       "    </tr>\n",
       "    <tr>\n",
       "      <th>85</th>\n",
       "      <td>Little Boy (2015)</td>\n",
       "      <td>3.0</td>\n",
       "    </tr>\n",
       "    <tr>\n",
       "      <th>47</th>\n",
       "      <td>Annie (2014)</td>\n",
       "      <td>3.0</td>\n",
       "    </tr>\n",
       "    <tr>\n",
       "      <th>19</th>\n",
       "      <td>Pixels (2015)</td>\n",
       "      <td>3.0</td>\n",
       "    </tr>\n",
       "    <tr>\n",
       "      <th>134</th>\n",
       "      <td>The Longest Ride (2015)</td>\n",
       "      <td>3.0</td>\n",
       "    </tr>\n",
       "    <tr>\n",
       "      <th>133</th>\n",
       "      <td>Paul Blart: Mall Cop 2 (2015)</td>\n",
       "      <td>3.0</td>\n",
       "    </tr>\n",
       "    <tr>\n",
       "      <th>35</th>\n",
       "      <td>The Loft (2015)</td>\n",
       "      <td>3.0</td>\n",
       "    </tr>\n",
       "    <tr>\n",
       "      <th>15</th>\n",
       "      <td>Taken 3 (2015)</td>\n",
       "      <td>3.0</td>\n",
       "    </tr>\n",
       "    <tr>\n",
       "      <th>125</th>\n",
       "      <td>The Wedding Ringer (2015)</td>\n",
       "      <td>2.5</td>\n",
       "    </tr>\n",
       "    <tr>\n",
       "      <th>51</th>\n",
       "      <td>Entourage (2015)</td>\n",
       "      <td>2.5</td>\n",
       "    </tr>\n",
       "  </tbody>\n",
       "</table>\n",
       "</div>"
      ],
      "text/plain": [
       "                              FILM  fm_diff\n",
       "3           Do You Believe? (2015)      4.0\n",
       "85               Little Boy (2015)      3.0\n",
       "47                    Annie (2014)      3.0\n",
       "19                   Pixels (2015)      3.0\n",
       "134        The Longest Ride (2015)      3.0\n",
       "133  Paul Blart: Mall Cop 2 (2015)      3.0\n",
       "35                 The Loft (2015)      3.0\n",
       "15                  Taken 3 (2015)      3.0\n",
       "125      The Wedding Ringer (2015)      2.5\n",
       "51                Entourage (2015)      2.5"
      ]
     },
     "execution_count": 63,
     "metadata": {},
     "output_type": "execute_result"
    }
   ],
   "source": [
    "movies['fm_diff'] = np.absolute(movies['Metacritic_norm_round'] - movies['Fandango_Stars'])\n",
    "movies.sort_values('fm_diff',ascending=False).head(10)[['FILM','fm_diff']]"
   ]
  },
  {
   "cell_type": "markdown",
   "metadata": {},
   "source": [
    "Those are the top 10 movies having the biggest difference in ratings between Fandango and Metacritic."
   ]
  },
  {
   "cell_type": "markdown",
   "metadata": {},
   "source": [
    "## Finding largest outliers, Fandango vs. Rotten Tomatoes\n",
    "Let's find out if the movies are the same than the previous 10"
   ]
  },
  {
   "cell_type": "code",
   "execution_count": 64,
   "metadata": {
    "collapsed": false
   },
   "outputs": [
    {
     "data": {
      "text/html": [
       "<div>\n",
       "<table border=\"1\" class=\"dataframe\">\n",
       "  <thead>\n",
       "    <tr style=\"text-align: right;\">\n",
       "      <th></th>\n",
       "      <th>FILM</th>\n",
       "      <th>frt_diff</th>\n",
       "    </tr>\n",
       "  </thead>\n",
       "  <tbody>\n",
       "    <tr>\n",
       "      <th>15</th>\n",
       "      <td>Taken 3 (2015)</td>\n",
       "      <td>4.0</td>\n",
       "    </tr>\n",
       "    <tr>\n",
       "      <th>3</th>\n",
       "      <td>Do You Believe? (2015)</td>\n",
       "      <td>4.0</td>\n",
       "    </tr>\n",
       "    <tr>\n",
       "      <th>85</th>\n",
       "      <td>Little Boy (2015)</td>\n",
       "      <td>3.5</td>\n",
       "    </tr>\n",
       "    <tr>\n",
       "      <th>33</th>\n",
       "      <td>The Boy Next Door (2015)</td>\n",
       "      <td>3.5</td>\n",
       "    </tr>\n",
       "    <tr>\n",
       "      <th>53</th>\n",
       "      <td>Hot Pursuit (2015)</td>\n",
       "      <td>3.5</td>\n",
       "    </tr>\n",
       "    <tr>\n",
       "      <th>105</th>\n",
       "      <td>Hitman: Agent 47 (2015)</td>\n",
       "      <td>3.5</td>\n",
       "    </tr>\n",
       "    <tr>\n",
       "      <th>19</th>\n",
       "      <td>Pixels (2015)</td>\n",
       "      <td>3.5</td>\n",
       "    </tr>\n",
       "    <tr>\n",
       "      <th>35</th>\n",
       "      <td>The Loft (2015)</td>\n",
       "      <td>3.5</td>\n",
       "    </tr>\n",
       "    <tr>\n",
       "      <th>60</th>\n",
       "      <td>Unfinished Business (2015)</td>\n",
       "      <td>3.0</td>\n",
       "    </tr>\n",
       "    <tr>\n",
       "      <th>49</th>\n",
       "      <td>Terminator Genisys (2015)</td>\n",
       "      <td>3.0</td>\n",
       "    </tr>\n",
       "  </tbody>\n",
       "</table>\n",
       "</div>"
      ],
      "text/plain": [
       "                           FILM  frt_diff\n",
       "15               Taken 3 (2015)       4.0\n",
       "3        Do You Believe? (2015)       4.0\n",
       "85            Little Boy (2015)       3.5\n",
       "33     The Boy Next Door (2015)       3.5\n",
       "53           Hot Pursuit (2015)       3.5\n",
       "105     Hitman: Agent 47 (2015)       3.5\n",
       "19                Pixels (2015)       3.5\n",
       "35              The Loft (2015)       3.5\n",
       "60   Unfinished Business (2015)       3.0\n",
       "49    Terminator Genisys (2015)       3.0"
      ]
     },
     "execution_count": 64,
     "metadata": {},
     "output_type": "execute_result"
    }
   ],
   "source": [
    "movies['frt_diff'] = np.absolute(movies['RT_norm_round'] - movies['Fandango_Stars'])\n",
    "movies.sort_values('frt_diff',ascending=False).head(10)[['FILM','frt_diff']]"
   ]
  },
  {
   "cell_type": "markdown",
   "metadata": {},
   "source": [
    "5 out of 10 movies are the same. I think that Fandango must have an interest showing high ratings for those movies (selling tickets) even if the movies are really bad according to other rating websites.\n",
    "\n",
    "Upon further investigation on the movie 'Do You Believe?', I saw that the critic reviews for this movie were really bad, but the user reviews were rather good ! `4.2/5` on RT, `2.3/5` on Metacritic. Same thing occurs with 'Little Boy', and with 'Pixels' and 'Taken 3' with a slighly lower gap.\n",
    "\n",
    "So, a comparison of critic reviews from Metacritic and RT with user reviews from Fandango might not be the best analysis to do to show bias, because even within the same website, user and critic reviews can vary a lot.\n",
    "We'll compare user reviews later on."
   ]
  },
  {
   "cell_type": "markdown",
   "metadata": {},
   "source": [
    "## Correlation and predictions"
   ]
  },
  {
   "cell_type": "code",
   "execution_count": 8,
   "metadata": {
    "collapsed": false
   },
   "outputs": [
    {
     "data": {
      "text/plain": [
       "0.17844919073895918"
      ]
     },
     "execution_count": 8,
     "metadata": {},
     "output_type": "execute_result"
    }
   ],
   "source": [
    "import scipy.stats\n",
    "r,p = scipy.stats.pearsonr(movies['Fandango_Stars'],movies['Metacritic_norm_round'])\n",
    "r"
   ]
  },
  {
   "cell_type": "markdown",
   "metadata": {},
   "source": [
    "There is a low correlation between the two websites ratings. It means that there is very litte relationship between those ratings."
   ]
  },
  {
   "cell_type": "code",
   "execution_count": 9,
   "metadata": {
    "collapsed": false
   },
   "outputs": [
    {
     "data": {
      "text/plain": [
       "4.0917071528212032"
      ]
     },
     "execution_count": 9,
     "metadata": {},
     "output_type": "execute_result"
    }
   ],
   "source": [
    "slope,intercept,rvalue,pvalue,stderr = scipy.stats.linregress(movies['Metacritic_norm_round'],movies['Fandango_Stars'])\n",
    "# prediction on Fandango of a 3.0 from Metacritic\n",
    "pred_3 = 3*slope + intercept\n",
    "pred_3"
   ]
  },
  {
   "cell_type": "code",
   "execution_count": 10,
   "metadata": {
    "collapsed": false
   },
   "outputs": [
    {
     "data": {
      "text/plain": [
       "3.8970849968733465"
      ]
     },
     "execution_count": 10,
     "metadata": {},
     "output_type": "execute_result"
    }
   ],
   "source": [
    "pred_1 = slope + intercept\n",
    "pred_1"
   ]
  },
  {
   "cell_type": "code",
   "execution_count": 11,
   "metadata": {
    "collapsed": false
   },
   "outputs": [
    {
     "data": {
      "text/plain": [
       "4.2863293087690604"
      ]
     },
     "execution_count": 11,
     "metadata": {},
     "output_type": "execute_result"
    }
   ],
   "source": [
    "pred_5 = 5*slope + intercept\n",
    "pred_5"
   ]
  },
  {
   "cell_type": "markdown",
   "metadata": {},
   "source": [
    "We can see that linear regression is not really adapted in this case (also with the r value)."
   ]
  },
  {
   "cell_type": "code",
   "execution_count": 12,
   "metadata": {
    "collapsed": false
   },
   "outputs": [
    {
     "data": {
      "image/png": "[encoded data removed]",
      "text/plain": [
       "<matplotlib.figure.Figure at 0x10f5322b0>"
      ]
     },
     "metadata": {},
     "output_type": "display_data"
    }
   ],
   "source": [
    "plt.scatter(movies['Fandango_Stars'],movies['Metacritic_norm_round'],alpha=0.1)\n",
    "plt.xlim(0,5.5)\n",
    "plt.ylim(0,5.5)\n",
    "plt.xlabel('Fandango')\n",
    "plt.ylabel('Metacritic')\n",
    "plt.plot([pred_1,pred_5],[1.0,5.0])\n",
    "plt.show()"
   ]
  },
  {
   "cell_type": "markdown",
   "metadata": {
    "collapsed": true
   },
   "source": [
    "# Comparison of user reviews, and users vs. critics"
   ]
  },
  {
   "cell_type": "code",
   "execution_count": 83,
   "metadata": {
    "collapsed": false
   },
   "outputs": [
    {
     "data": {
      "image/png": "[encoded data removed]",
      "text/plain": [
       "<matplotlib.figure.Figure at 0x110002358>"
      ]
     },
     "metadata": {},
     "output_type": "display_data"
    }
   ],
   "source": [
    "plt.hist(movies['Fandango_Ratingvalue'],bins=11,range=(0,5.5),align='left',normed=True)\n",
    "plt.title('Fandango ratings')\n",
    "plt.gca().spines['right'].set_visible(False)\n",
    "plt.gca().spines['top'].set_visible(False)\n",
    "plt.gca().spines['left'].set_visible(False)\n",
    "plt.tick_params(left='off')\n",
    "plt.show()"
   ]
  },
  {
   "cell_type": "code",
   "execution_count": 82,
   "metadata": {
    "collapsed": false
   },
   "outputs": [
    {
     "data": {
      "image/png": "[encoded data removed]",
      "text/plain": [
       "<matplotlib.figure.Figure at 0x1100cf630>"
      ]
     },
     "metadata": {},
     "output_type": "display_data"
    }
   ],
   "source": [
    "fig = plt.figure(figsize=(13,4))\n",
    "ax1 = fig.add_subplot(1,2,1)\n",
    "ax1.hist(movies['Metacritic_user_norm_round'],bins=11,range=(0,5.5),align='left',normed=True)\n",
    "ax1.set_title('Metacritic ratings (users)')\n",
    "ax1.spines['right'].set_visible(False)\n",
    "ax1.spines['top'].set_visible(False)\n",
    "ax1.spines['left'].set_visible(False)\n",
    "ax1.tick_params(left='off')\n",
    "ax2 = fig.add_subplot(1,2,2)\n",
    "ax2.hist(movies['Metacritic_norm_round'],bins=11,range=(0,5.5),align='left',normed=True)\n",
    "ax2.set_title('Metacritic ratings (critics)')\n",
    "ax2.spines['right'].set_visible(False)\n",
    "ax2.spines['top'].set_visible(False)\n",
    "ax2.spines['left'].set_visible(False)\n",
    "ax2.tick_params(left='off')\n",
    "plt.show()"
   ]
  },
  {
   "cell_type": "markdown",
   "metadata": {},
   "source": [
    "I added the critic reviews histograms so we can compare the differences between critics and users."
   ]
  },
  {
   "cell_type": "code",
   "execution_count": 85,
   "metadata": {
    "collapsed": false
   },
   "outputs": [
    {
     "data": {
      "image/png": "[encoded data removed]",
      "text/plain": [
       "<matplotlib.figure.Figure at 0x1104235c0>"
      ]
     },
     "metadata": {},
     "output_type": "display_data"
    }
   ],
   "source": [
    "fig = plt.figure(figsize=(13,4))\n",
    "ax1 = fig.add_subplot(1,2,1)\n",
    "ax1.hist(movies['RT_user_norm_round'],bins=11,range=(0,5.5),align='left',normed=True)\n",
    "ax1.set_title('RT ratings (users)')\n",
    "ax1.spines['right'].set_visible(False)\n",
    "ax1.spines['top'].set_visible(False)\n",
    "ax1.spines['left'].set_visible(False)\n",
    "ax1.tick_params(left='off')\n",
    "ax2 = fig.add_subplot(1,2,2)\n",
    "ax2.hist(movies['RT_norm_round'],bins=11,range=(0,5.5),align='left',normed=True)\n",
    "ax2.set_title('RT ratings (critics)')\n",
    "ax2.spines['right'].set_visible(False)\n",
    "ax2.spines['top'].set_visible(False)\n",
    "ax2.spines['left'].set_visible(False)\n",
    "ax2.tick_params(left='off')\n",
    "plt.show()"
   ]
  },
  {
   "cell_type": "markdown",
   "metadata": {},
   "source": [
    "The users and critics ratings are different within each website: the user distributions are getting closer to Fandango's distribution, especially for Metacritic."
   ]
  },
  {
   "cell_type": "markdown",
   "metadata": {},
   "source": [
    "## Mean, median, standard deviation\n",
    "Comparison between user and critic reviews. This only concerns RT and Metacritic as they are the only websites to have both critic and user reviews (IMDB uses metacritic reviews for their critic ratings, and Fandango uses RT)."
   ]
  },
  {
   "cell_type": "code",
   "execution_count": 95,
   "metadata": {
    "collapsed": false
   },
   "outputs": [
    {
     "name": "stdout",
     "output_type": "stream",
     "text": [
      "USER REVIEWS\n"
     ]
    },
    {
     "data": {
      "text/plain": [
       "{'metacritic_mean': 3.27,\n",
       " 'metacritic_median': 3.5,\n",
       " 'metacritic_std': 0.79,\n",
       " 'rt_mean': 3.23,\n",
       " 'rt_median': 3.5,\n",
       " 'rt_std': 1.0}"
      ]
     },
     "execution_count": 95,
     "metadata": {},
     "output_type": "execute_result"
    }
   ],
   "source": [
    "stats_users = {}\n",
    "stats_users['metacritic_mean'] = round(np.mean(movies['Metacritic_user_norm_round']),2)\n",
    "stats_users['rt_mean'] = round(np.mean(movies['RT_user_norm_round']),2)\n",
    "stats_users['metacritic_median'] = round(np.median(movies['Metacritic_user_norm_round']),2)\n",
    "stats_users['rt_median'] = round(np.median(movies['RT_user_norm_round']),2)\n",
    "stats_users['metacritic_std'] = round(np.std(movies['Metacritic_user_norm_round']),2)\n",
    "stats_users['rt_std'] = round(np.std(movies['RT_user_norm_round']),2)\n",
    "print('USER REVIEWS')\n",
    "stats_users"
   ]
  },
  {
   "cell_type": "code",
   "execution_count": 98,
   "metadata": {
    "collapsed": false
   },
   "outputs": [
    {
     "name": "stdout",
     "output_type": "stream",
     "text": [
      "CRITIC REVIEWS\n"
     ]
    },
    {
     "data": {
      "text/plain": [
       "{'metacritic_mean': 2.97,\n",
       " 'metacritic_median': 3.0,\n",
       " 'metacritic_std': 0.99,\n",
       " 'rt_mean': 3.07,\n",
       " 'rt_median': 3.0,\n",
       " 'rt_std': 1.51}"
      ]
     },
     "execution_count": 98,
     "metadata": {},
     "output_type": "execute_result"
    }
   ],
   "source": [
    "stats = {}\n",
    "stats['metacritic_mean'] = round(np.mean(movies['Metacritic_norm_round']),2)\n",
    "stats['rt_mean'] = round(np.mean(movies['RT_norm_round']),2)\n",
    "stats['metacritic_median'] = round(np.median(movies['Metacritic_norm_round']),2)\n",
    "stats['rt_median'] = round(np.median(movies['RT_norm_round']),2)\n",
    "stats['metacritic_std'] = round(np.std(movies['Metacritic_norm_round']),2)\n",
    "stats['rt_std'] = round(np.std(movies['RT_norm_round']),2)\n",
    "print('CRITIC REVIEWS')\n",
    "stats"
   ]
  },
  {
   "cell_type": "markdown",
   "metadata": {},
   "source": [
    "With the standard deviation, we can see that for both websites the critic ratings have a bigger range of values than the user ones. Also, in average, critics are more severe in their ratings as both the mean and the median are inferior compared to user ratings."
   ]
  },
  {
   "cell_type": "markdown",
   "metadata": {
    "collapsed": true
   },
   "source": [
    "## Conclusions"
   ]
  },
  {
   "cell_type": "markdown",
   "metadata": {},
   "source": [
    "Fandango is obviously different from other movie reviews websites since its main goal is to sell tickets. It is in their advantage to highly rate its movies, but we can see that it does not reflect people's opinion on them, and it is far from the critic reviews. \n",
    "\n",
    "The fact, as it can be seen on histograms, that almost no movie is under `3` stars really shows bias. Also, as read on FiveThirtyEight website, they purposely round up the average rating for a movie to the nearest `.5` number: for instance a movie rated `3.1` will appear on their website having a rating of `3.5`.\n",
    "\n",
    "This analysis also highlighted the differences between critic and user reviews, as user reviews tend to be higher and less spread out."
   ]
  },
  {
   "cell_type": "code",
   "execution_count": null,
   "metadata": {
    "collapsed": true
   },
   "outputs": [],
   "source": []
  }
 ],
 "metadata": {
  "kernelspec": {
   "display_name": "Python 3",
   "language": "python",
   "name": "python3"
  },
  "language_info": {
   "codemirror_mode": {
    "name": "ipython",
    "version": 3
   },
   "file_extension": ".py",
   "mimetype": "text/x-python",
   "name": "python",
   "nbconvert_exporter": "python",
   "pygments_lexer": "ipython3",
   "version": "3.6.0"
  }
 },
 "nbformat": 4,
 "nbformat_minor": 0
}
