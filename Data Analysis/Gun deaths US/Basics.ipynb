{
 "cells": [
  {
   "cell_type": "markdown",
   "metadata": {
    "collapsed": true
   },
   "source": [
    "# US Gun Death Data\n",
    "## 2012 to 2014\n",
    "Data analysis and manipulation using basic Python\n",
    "## Dataset : `guns.csv`\n",
    "\n",
    "- identifier\n",
    "- `year` \n",
    "- `month`\n",
    "- `intent` : `Suicide`,`Accidental`,`NA`,`Homicide`,`Undetermined`\n",
    "- `police` : `1` : a police officer was involved, `0` if not\n",
    "- `sex` : `M` or `F`\n",
    "- `age`\n",
    "- `race` : `Asian/Pacific Islander`,`Native American/Native`,`Alaskan`,`Black`,`Hispanic`,`White`\n",
    "- `hispanic` : a code indicating the Hispanic origin of the victim\n",
    "- `place` : where the shooting occured\n",
    "- `education` : `1`,`2`,`3`,`4`,`5`"
   ]
  },
  {
   "cell_type": "code",
   "execution_count": 2,
   "metadata": {
    "collapsed": false
   },
   "outputs": [
    {
     "data": {
      "text/plain": [
       "[['',\n",
       "  'year',\n",
       "  'month',\n",
       "  'intent',\n",
       "  'police',\n",
       "  'sex',\n",
       "  'age',\n",
       "  'race',\n",
       "  'hispanic',\n",
       "  'place',\n",
       "  'education'],\n",
       " ['1',\n",
       "  '2012',\n",
       "  '01',\n",
       "  'Suicide',\n",
       "  '0',\n",
       "  'M',\n",
       "  '34',\n",
       "  'Asian/Pacific Islander',\n",
       "  '100',\n",
       "  'Home',\n",
       "  '4'],\n",
       " ['2', '2012', '01', 'Suicide', '0', 'F', '21', 'White', '100', 'Street', '3'],\n",
       " ['3',\n",
       "  '2012',\n",
       "  '01',\n",
       "  'Suicide',\n",
       "  '0',\n",
       "  'M',\n",
       "  '60',\n",
       "  'White',\n",
       "  '100',\n",
       "  'Other specified',\n",
       "  '4'],\n",
       " ['4', '2012', '02', 'Suicide', '0', 'M', '64', 'White', '100', 'Home', '4']]"
      ]
     },
     "execution_count": 2,
     "metadata": {},
     "output_type": "execute_result"
    }
   ],
   "source": [
    "import csv\n",
    "\n",
    "f = open('guns.csv','r')\n",
    "data = list(csv.reader(f))\n",
    "\n",
    "data[:5]"
   ]
  },
  {
   "cell_type": "code",
   "execution_count": 3,
   "metadata": {
    "collapsed": false
   },
   "outputs": [
    {
     "name": "stdout",
     "output_type": "stream",
     "text": [
      "['', 'year', 'month', 'intent', 'police', 'sex', 'age', 'race', 'hispanic', 'place', 'education']\n"
     ]
    },
    {
     "data": {
      "text/plain": [
       "[['1',\n",
       "  '2012',\n",
       "  '01',\n",
       "  'Suicide',\n",
       "  '0',\n",
       "  'M',\n",
       "  '34',\n",
       "  'Asian/Pacific Islander',\n",
       "  '100',\n",
       "  'Home',\n",
       "  '4'],\n",
       " ['2', '2012', '01', 'Suicide', '0', 'F', '21', 'White', '100', 'Street', '3'],\n",
       " ['3',\n",
       "  '2012',\n",
       "  '01',\n",
       "  'Suicide',\n",
       "  '0',\n",
       "  'M',\n",
       "  '60',\n",
       "  'White',\n",
       "  '100',\n",
       "  'Other specified',\n",
       "  '4'],\n",
       " ['4', '2012', '02', 'Suicide', '0', 'M', '64', 'White', '100', 'Home', '4'],\n",
       " ['5',\n",
       "  '2012',\n",
       "  '02',\n",
       "  'Suicide',\n",
       "  '0',\n",
       "  'M',\n",
       "  '31',\n",
       "  'White',\n",
       "  '100',\n",
       "  'Other specified',\n",
       "  '2']]"
      ]
     },
     "execution_count": 3,
     "metadata": {},
     "output_type": "execute_result"
    }
   ],
   "source": [
    "headers = data[0]\n",
    "data = data[1:]\n",
    "\n",
    "print(headers)\n",
    "data[:5]"
   ]
  },
  {
   "cell_type": "markdown",
   "metadata": {},
   "source": [
    "## Counting gun deaths by year"
   ]
  },
  {
   "cell_type": "code",
   "execution_count": 4,
   "metadata": {
    "collapsed": false
   },
   "outputs": [
    {
     "name": "stdout",
     "output_type": "stream",
     "text": [
      "Gun deaths by year : \n"
     ]
    },
    {
     "data": {
      "text/plain": [
       "{'2012': 33563, '2013': 33636, '2014': 33599}"
      ]
     },
     "execution_count": 4,
     "metadata": {},
     "output_type": "execute_result"
    }
   ],
   "source": [
    "years = [el[1] for el in data]\n",
    "year_counts = {}\n",
    "for year in years:\n",
    "    if year in year_counts:\n",
    "        year_counts[year] += 1\n",
    "    else: year_counts[year] = 1\n",
    "        \n",
    "print('Gun deaths by year : ')\n",
    "year_counts"
   ]
  },
  {
   "cell_type": "code",
   "execution_count": 5,
   "metadata": {
    "collapsed": false
   },
   "outputs": [
    {
     "data": {
      "text/plain": [
       "[datetime.datetime(2012, 1, 1, 0, 0),\n",
       " datetime.datetime(2012, 1, 1, 0, 0),\n",
       " datetime.datetime(2012, 1, 1, 0, 0),\n",
       " datetime.datetime(2012, 2, 1, 0, 0),\n",
       " datetime.datetime(2012, 2, 1, 0, 0)]"
      ]
     },
     "execution_count": 5,
     "metadata": {},
     "output_type": "execute_result"
    }
   ],
   "source": [
    "import datetime\n",
    "\n",
    "dates = [datetime.datetime(year=int(el[1]),month=int(el[2]),day=1) for el in data]\n",
    "dates[:5]"
   ]
  },
  {
   "cell_type": "markdown",
   "metadata": {},
   "source": [
    "## Counting gun deaths by month and year"
   ]
  },
  {
   "cell_type": "code",
   "execution_count": 6,
   "metadata": {
    "collapsed": false
   },
   "outputs": [
    {
     "data": {
      "text/plain": [
       "{datetime.datetime(2012, 1, 1, 0, 0): 2758,\n",
       " datetime.datetime(2012, 2, 1, 0, 0): 2357,\n",
       " datetime.datetime(2012, 3, 1, 0, 0): 2743,\n",
       " datetime.datetime(2012, 4, 1, 0, 0): 2795,\n",
       " datetime.datetime(2012, 5, 1, 0, 0): 2999,\n",
       " datetime.datetime(2012, 6, 1, 0, 0): 2826,\n",
       " datetime.datetime(2012, 7, 1, 0, 0): 3026,\n",
       " datetime.datetime(2012, 8, 1, 0, 0): 2954,\n",
       " datetime.datetime(2012, 9, 1, 0, 0): 2852,\n",
       " datetime.datetime(2012, 10, 1, 0, 0): 2733,\n",
       " datetime.datetime(2012, 11, 1, 0, 0): 2729,\n",
       " datetime.datetime(2012, 12, 1, 0, 0): 2791,\n",
       " datetime.datetime(2013, 1, 1, 0, 0): 2864,\n",
       " datetime.datetime(2013, 2, 1, 0, 0): 2375,\n",
       " datetime.datetime(2013, 3, 1, 0, 0): 2862,\n",
       " datetime.datetime(2013, 4, 1, 0, 0): 2798,\n",
       " datetime.datetime(2013, 5, 1, 0, 0): 2806,\n",
       " datetime.datetime(2013, 6, 1, 0, 0): 2920,\n",
       " datetime.datetime(2013, 7, 1, 0, 0): 3079,\n",
       " datetime.datetime(2013, 8, 1, 0, 0): 2859,\n",
       " datetime.datetime(2013, 9, 1, 0, 0): 2742,\n",
       " datetime.datetime(2013, 10, 1, 0, 0): 2808,\n",
       " datetime.datetime(2013, 11, 1, 0, 0): 2758,\n",
       " datetime.datetime(2013, 12, 1, 0, 0): 2765,\n",
       " datetime.datetime(2014, 1, 1, 0, 0): 2651,\n",
       " datetime.datetime(2014, 2, 1, 0, 0): 2361,\n",
       " datetime.datetime(2014, 3, 1, 0, 0): 2684,\n",
       " datetime.datetime(2014, 4, 1, 0, 0): 2862,\n",
       " datetime.datetime(2014, 5, 1, 0, 0): 2864,\n",
       " datetime.datetime(2014, 6, 1, 0, 0): 2931,\n",
       " datetime.datetime(2014, 7, 1, 0, 0): 2884,\n",
       " datetime.datetime(2014, 8, 1, 0, 0): 2970,\n",
       " datetime.datetime(2014, 9, 1, 0, 0): 2914,\n",
       " datetime.datetime(2014, 10, 1, 0, 0): 2865,\n",
       " datetime.datetime(2014, 11, 1, 0, 0): 2756,\n",
       " datetime.datetime(2014, 12, 1, 0, 0): 2857}"
      ]
     },
     "execution_count": 6,
     "metadata": {},
     "output_type": "execute_result"
    }
   ],
   "source": [
    "date_counts = {}\n",
    "for date in dates:\n",
    "    if date in date_counts:\n",
    "        date_counts[date] += 1\n",
    "    else:\n",
    "        date_counts[date] = 1\n",
    "\n",
    "date_counts"
   ]
  },
  {
   "cell_type": "markdown",
   "metadata": {},
   "source": [
    "## Gun Deaths By Race And Sex"
   ]
  },
  {
   "cell_type": "code",
   "execution_count": 7,
   "metadata": {
    "collapsed": false
   },
   "outputs": [
    {
     "name": "stdout",
     "output_type": "stream",
     "text": [
      "Gun deaths by race :\n",
      "\n",
      "{'Asian/Pacific Islander': 1326, 'White': 66237, 'Native American/Native Alaskan': 917, 'Black': 23296, 'Hispanic': 9022}\n",
      "\n",
      "Gun deaths by sex :\n",
      "\n"
     ]
    },
    {
     "data": {
      "text/plain": [
       "{'F': 14449, 'M': 86349}"
      ]
     },
     "execution_count": 7,
     "metadata": {},
     "output_type": "execute_result"
    }
   ],
   "source": [
    "sex_counts = {}\n",
    "race_counts = {}\n",
    "for el in data:\n",
    "    sex = el[5]\n",
    "    race = el[7]\n",
    "    if sex in sex_counts:\n",
    "        sex_counts[sex] +=1 \n",
    "    else:\n",
    "        sex_counts[sex] = 1\n",
    "    if race in race_counts:\n",
    "        race_counts[race] +=1 \n",
    "    else:\n",
    "        race_counts[race] = 1\n",
    "        \n",
    "print('Gun deaths by race :\\n')\n",
    "print(race_counts)\n",
    "print('\\nGun deaths by sex :\\n')\n",
    "sex_counts"
   ]
  },
  {
   "cell_type": "markdown",
   "metadata": {
    "collapsed": true
   },
   "source": [
    "## Adding the proportion of each race in the US\n",
    "\n",
    "file : `census.csv`"
   ]
  },
  {
   "cell_type": "code",
   "execution_count": 8,
   "metadata": {
    "collapsed": false
   },
   "outputs": [
    {
     "data": {
      "text/plain": [
       "[['Id',\n",
       "  'Year',\n",
       "  'Id',\n",
       "  'Sex',\n",
       "  'Id',\n",
       "  'Hispanic Origin',\n",
       "  'Id',\n",
       "  'Id2',\n",
       "  'Geography',\n",
       "  'Total',\n",
       "  'Race Alone - White',\n",
       "  'Race Alone - Hispanic',\n",
       "  'Race Alone - Black or African American',\n",
       "  'Race Alone - American Indian and Alaska Native',\n",
       "  'Race Alone - Asian',\n",
       "  'Race Alone - Native Hawaiian and Other Pacific Islander',\n",
       "  'Two or More Races'],\n",
       " ['cen42010',\n",
       "  'April 1, 2010 Census',\n",
       "  'totsex',\n",
       "  'Both Sexes',\n",
       "  'tothisp',\n",
       "  'Total',\n",
       "  '0100000US',\n",
       "  '',\n",
       "  'United States',\n",
       "  '308745538',\n",
       "  '197318956',\n",
       "  '44618105',\n",
       "  '40250635',\n",
       "  '3739506',\n",
       "  '15159516',\n",
       "  '674625',\n",
       "  '6984195']]"
      ]
     },
     "execution_count": 8,
     "metadata": {},
     "output_type": "execute_result"
    }
   ],
   "source": [
    "f2 = open('census.csv')\n",
    "census = list(csv.reader(f2))\n",
    "\n",
    "census"
   ]
  },
  {
   "cell_type": "markdown",
   "metadata": {
    "collapsed": false
   },
   "source": [
    "## Gun Deaths rate per 100000 by race"
   ]
  },
  {
   "cell_type": "code",
   "execution_count": 9,
   "metadata": {
    "collapsed": false
   },
   "outputs": [
    {
     "data": {
      "text/plain": [
       "{'Asian/Pacific Islander': 8.4,\n",
       " 'Black': 57.9,\n",
       " 'Hispanic': 20.2,\n",
       " 'Native American/Native Alaskan': 24.5,\n",
       " 'White': 33.6}"
      ]
     },
     "execution_count": 9,
     "metadata": {},
     "output_type": "execute_result"
    }
   ],
   "source": [
    "#mapping between both datasets\n",
    "mapping = {\n",
    "    'Asian/Pacific Islander':15159516+674625,\n",
    "    'Black':40250635,\n",
    "    'Hispanic' : 44618105,\n",
    "    'Native American/Native Alaskan' : 3739506,\n",
    "    'White' : 197318956\n",
    "}\n",
    "\n",
    "race_per_hundredk = {}\n",
    "for key,value in race_counts.items():\n",
    "    race_per_hundredk[key] = round((value/mapping[key])*100000,1)\n",
    "race_per_hundredk"
   ]
  },
  {
   "cell_type": "markdown",
   "metadata": {},
   "source": [
    "## Gun related murder rate per 100000"
   ]
  },
  {
   "cell_type": "code",
   "execution_count": 10,
   "metadata": {
    "collapsed": false
   },
   "outputs": [
    {
     "data": {
      "text/plain": [
       "{'Asian/Pacific Islander': 559,\n",
       " 'Black': 19510,\n",
       " 'Hispanic': 5634,\n",
       " 'Native American/Native Alaskan': 326,\n",
       " 'White': 9147}"
      ]
     },
     "execution_count": 10,
     "metadata": {},
     "output_type": "execute_result"
    }
   ],
   "source": [
    "intents = [el[3] for el in data]\n",
    "races = [el[7] for el in data]\n",
    "\n",
    "homicide_rate_per_hundredk = {}\n",
    "\n",
    "for i,race in enumerate(races):\n",
    "    if intents[i] == 'Homicide':\n",
    "        if race in homicide_rate_per_hundredk:\n",
    "            homicide_rate_per_hundredk[race] += 1\n",
    "        else:\n",
    "            homicide_rate_per_hundredk[race] = 1\n",
    "homicide_rate_per_hundredk"
   ]
  },
  {
   "cell_type": "code",
   "execution_count": 11,
   "metadata": {
    "collapsed": false
   },
   "outputs": [
    {
     "data": {
      "text/plain": [
       "{'Asian/Pacific Islander': 3.5,\n",
       " 'Black': 48.5,\n",
       " 'Hispanic': 12.6,\n",
       " 'Native American/Native Alaskan': 8.7,\n",
       " 'White': 4.6}"
      ]
     },
     "execution_count": 11,
     "metadata": {},
     "output_type": "execute_result"
    }
   ],
   "source": [
    "for key,value in homicide_rate_per_hundredk.items():\n",
    "    homicide_rate_per_hundredk[key] = round((value/mapping[key])*100000,1)\n",
    "homicide_rate_per_hundredk"
   ]
  },
  {
   "cell_type": "markdown",
   "metadata": {},
   "source": [
    "Blacks have way more chances to be murdered with a gun than any other race. "
   ]
  },
  {
   "cell_type": "markdown",
   "metadata": {},
   "source": [
    "# Next steps\n",
    "\n",
    "- Gun related Suicide,Accidental,etc. rate per 100000 by race\n",
    "- Homicide rate by gender\n",
    "- Does gun death rates correlate to location, education \n",
    "- Gun related murders commited, filtered by race, to understand the previous numbers and rates"
   ]
  },
  {
   "cell_type": "markdown",
   "metadata": {
    "collapsed": true
   },
   "source": [
    "## Gun related Suicide rate per 100000 by race"
   ]
  },
  {
   "cell_type": "code",
   "execution_count": 46,
   "metadata": {
    "collapsed": false
   },
   "outputs": [
    {
     "data": {
      "text/plain": [
       "{'Asian/Pacific Islander': 745,\n",
       " 'Black': 3332,\n",
       " 'Hispanic': 3171,\n",
       " 'Native American/Native Alaskan': 555,\n",
       " 'White': 55372}"
      ]
     },
     "execution_count": 46,
     "metadata": {},
     "output_type": "execute_result"
    }
   ],
   "source": [
    "suicideRatePerRace = {}\n",
    "\n",
    "for i,race in enumerate(races):\n",
    "    if intents[i] == 'Suicide':\n",
    "        if race in suicideRatePerRace:\n",
    "            suicideRatePerRace[race] += 1\n",
    "        else:\n",
    "            suicideRatePerRace[race] = 1\n",
    "        \n",
    "suicideRatePerRace"
   ]
  },
  {
   "cell_type": "code",
   "execution_count": 47,
   "metadata": {
    "collapsed": false
   },
   "outputs": [
    {
     "data": {
      "text/plain": [
       "{'Asian/Pacific Islander': 4.7,\n",
       " 'Black': 8.3,\n",
       " 'Hispanic': 7.1,\n",
       " 'Native American/Native Alaskan': 14.8,\n",
       " 'White': 28.1}"
      ]
     },
     "execution_count": 47,
     "metadata": {},
     "output_type": "execute_result"
    }
   ],
   "source": [
    "for key,value in suicideRatePerRace.items():\n",
    "    suicideRatePerRace[key] = round((value/mapping[key])*100000,1)\n",
    "suicideRatePerRace"
   ]
  },
  {
   "cell_type": "markdown",
   "metadata": {},
   "source": [
    "We can see that white people are more likely to commit suicide (with a gun) than any other race."
   ]
  },
  {
   "cell_type": "markdown",
   "metadata": {},
   "source": [
    "## Gun related Suicide rate by gender"
   ]
  },
  {
   "cell_type": "code",
   "execution_count": 27,
   "metadata": {
    "collapsed": false
   },
   "outputs": [
    {
     "name": "stdout",
     "output_type": "stream",
     "text": [
      "Suicide rate per gender :  {'M': 54486, 'F': 8689}\n",
      "Homicide rate per gender :  {'M': 29803, 'F': 5373}\n"
     ]
    }
   ],
   "source": [
    "genders = [el[5] for el in data]\n",
    "suicideRatePerGender = {}\n",
    "homicideRatePerGender = {}\n",
    "for i,gender in enumerate(genders):\n",
    "    if intents[i] == 'Suicide':\n",
    "        if gender in suicideRatePerGender:\n",
    "            suicideRatePerGender[gender] += 1\n",
    "        else:\n",
    "            suicideRatePerGender[gender] = 1\n",
    "    elif intents[i] == 'Homicide':\n",
    "        if gender in homicideRatePerGender:\n",
    "            homicideRatePerGender[gender] += 1\n",
    "        else:\n",
    "            homicideRatePerGender[gender] = 1\n",
    "print('Suicide rate per gender : ',suicideRatePerGender)\n",
    "print('Homicide rate per gender : ',homicideRatePerGender)"
   ]
  },
  {
   "cell_type": "markdown",
   "metadata": {},
   "source": [
    "# Correlation between location and gun death rates"
   ]
  },
  {
   "cell_type": "code",
   "execution_count": 30,
   "metadata": {
    "collapsed": false
   },
   "outputs": [
    {
     "data": {
      "text/plain": [
       "{'Farm': 470,\n",
       " 'Home': 60486,\n",
       " 'Industrial/construction': 248,\n",
       " 'NA': 1384,\n",
       " 'Other specified': 13751,\n",
       " 'Other unspecified': 8867,\n",
       " 'Residential institution': 203,\n",
       " 'School/instiution': 671,\n",
       " 'Sports': 128,\n",
       " 'Street': 11151,\n",
       " 'Trade/service area': 3439}"
      ]
     },
     "execution_count": 30,
     "metadata": {},
     "output_type": "execute_result"
    }
   ],
   "source": [
    "locations = [el[-2] for el in data]\n",
    "deathsPerLocation = {}\n",
    "\n",
    "for el in locations:\n",
    "    if el in deathsPerLocation:\n",
    "        deathsPerLocation[el] += 1\n",
    "    else:\n",
    "        deathsPerLocation[el] = 1\n",
    "        \n",
    "deathsPerLocation"
   ]
  },
  {
   "cell_type": "markdown",
   "metadata": {},
   "source": [
    "## Intent for each location : Correlation with location"
   ]
  },
  {
   "cell_type": "code",
   "execution_count": 36,
   "metadata": {
    "collapsed": false
   },
   "outputs": [
    {
     "name": "stdout",
     "output_type": "stream",
     "text": [
      "Intents in NA :\n",
      " {'Homicide': 1383, 'NA': 1} \n",
      "\n",
      "Intents in Sports :\n",
      " {'Suicide': 98, 'Homicide': 22, 'Undetermined': 3, 'Accidental': 5} \n",
      "\n",
      "Intents in School/instiution :\n",
      " {'Homicide': 361, 'Suicide': 295, 'Undetermined': 4, 'Accidental': 11} \n",
      "\n",
      "Intents in Home :\n",
      " {'Suicide': 45415, 'Undetermined': 535, 'Homicide': 13613, 'Accidental': 923} \n",
      "\n",
      "Intents in Other specified :\n",
      " {'Suicide': 8031, 'Accidental': 212, 'Homicide': 5429, 'Undetermined': 79} \n",
      "\n",
      "Intents in Trade/service area :\n",
      " {'Homicide': 1663, 'Suicide': 1723, 'Undetermined': 18, 'Accidental': 35} \n",
      "\n",
      "Intents in Other unspecified :\n",
      " {'Accidental': 350, 'Suicide': 4774, 'Homicide': 3604, 'Undetermined': 139} \n",
      "\n",
      "Intents in Street :\n",
      " {'Suicide': 2181, 'Homicide': 8867, 'Undetermined': 25, 'Accidental': 78} \n",
      "\n",
      "Intents in Industrial/construction :\n",
      " {'Homicide': 85, 'Suicide': 155, 'Accidental': 7, 'Undetermined': 1} \n",
      "\n",
      "Intents in Residential institution :\n",
      " {'Homicide': 73, 'Suicide': 125, 'Accidental': 5} \n",
      "\n",
      "Intents in Farm :\n",
      " {'Homicide': 76, 'Suicide': 378, 'Accidental': 13, 'Undetermined': 3} \n",
      "\n"
     ]
    }
   ],
   "source": [
    "def intentLocation(location,data):\n",
    "    returnDict = {}\n",
    "    for el in data:\n",
    "        intent = el[3]\n",
    "        if el[-2] == location:\n",
    "            if intent in returnDict:\n",
    "                returnDict[intent] +=1\n",
    "            else:\n",
    "                returnDict[intent] = 1\n",
    "    return returnDict\n",
    "\n",
    "locationsSet = set(locations)\n",
    "for location in locationsSet:\n",
    "    print('Intents in',location,':\\n',intentLocation(location,data),'\\n')\n",
    "    "
   ]
  },
  {
   "cell_type": "markdown",
   "metadata": {},
   "source": [
    "We can see that the distribution of gun suicides vs. homicides at home is different than in the streets.\n",
    "Also, streets and schools are the only locations where the homicide rate is higher than the suicide rate."
   ]
  },
  {
   "cell_type": "markdown",
   "metadata": {},
   "source": [
    "## Distribution of locations for each intent"
   ]
  },
  {
   "cell_type": "code",
   "execution_count": 50,
   "metadata": {
    "collapsed": false
   },
   "outputs": [
    {
     "name": "stdout",
     "output_type": "stream",
     "text": [
      "Location distribution for NA :\n",
      " {'NA': 1} \n",
      "\n",
      "Location distribution for Suicide :\n",
      " {'Home': 45415, 'Street': 2181, 'Other specified': 8031, 'Other unspecified': 4774, 'Trade/service area': 1723, 'Sports': 98, 'School/instiution': 295, 'Farm': 378, 'Industrial/construction': 155, 'Residential institution': 125} \n",
      "\n",
      "Location distribution for Undetermined :\n",
      " {'Home': 535, 'Other specified': 79, 'Other unspecified': 139, 'Street': 25, 'Trade/service area': 18, 'School/instiution': 4, 'Farm': 3, 'Industrial/construction': 1, 'Sports': 3} \n",
      "\n",
      "Location distribution for Accidental :\n",
      " {'Other specified': 212, 'Home': 923, 'Other unspecified': 350, 'Street': 78, 'Industrial/construction': 7, 'Trade/service area': 35, 'School/instiution': 11, 'Farm': 13, 'Sports': 5, 'Residential institution': 5} \n",
      "\n",
      "Location distribution for Homicide :\n",
      " {'Home': 13613, 'Other specified': 5429, 'NA': 1383, 'Other unspecified': 3604, 'Street': 8867, 'Trade/service area': 1663, 'Farm': 76, 'Industrial/construction': 85, 'School/instiution': 361, 'Residential institution': 73, 'Sports': 22} \n",
      "\n"
     ]
    }
   ],
   "source": [
    "def locationIntent(intent,data):\n",
    "    returnDict = {}\n",
    "    for el in data:\n",
    "        location = el[-2]\n",
    "        if el[3] == intent:\n",
    "            if location in returnDict:\n",
    "                returnDict[location] +=1\n",
    "            else:\n",
    "                returnDict[location] = 1\n",
    "    return returnDict\n",
    "\n",
    "intentsSet = set(intents)\n",
    "for intent in intentsSet:\n",
    "    print('Location distribution for',intent,':\\n',locationIntent(intent,data),'\\n')"
   ]
  },
  {
   "cell_type": "markdown",
   "metadata": {},
   "source": [
    "## Correlation with education"
   ]
  },
  {
   "cell_type": "code",
   "execution_count": 53,
   "metadata": {
    "collapsed": false
   },
   "outputs": [
    {
     "name": "stdout",
     "output_type": "stream",
     "text": [
      "NA :\n",
      " {'Homicide': 34, 'Accidental': 13, 'Suicide': 6} \n",
      "\n",
      "Graduated from High School or equivalent :\n",
      " {'Suicide': 26321, 'Undetermined': 324, 'Homicide': 15649, 'Accidental': 633} \n",
      "\n",
      "Less than High School :\n",
      " {'Suicide': 9292, 'Homicide': 11839, 'Undetermined': 200, 'Accidental': 492} \n",
      "\n",
      "Some College :\n",
      " {'Suicide': 15533, 'Accidental': 327, 'Homicide': 5640, 'Undetermined': 180} \n",
      "\n",
      "Not available :\n",
      " {'Suicide': 876, 'Homicide': 455, 'Accidental': 28, 'Undetermined': 10} \n",
      "\n",
      "At least graduated from College :\n",
      " {'Suicide': 11147, 'Undetermined': 93, 'Homicide': 1559, 'Accidental': 146, 'NA': 1} \n",
      "\n"
     ]
    }
   ],
   "source": [
    "educationList = [el[-1] for el in data]\n",
    "\n",
    "def intentEducation(education,data):\n",
    "    returnDict = {}\n",
    "    for el in data:\n",
    "        intent = el[3]\n",
    "        if el[-1] == education:\n",
    "            if intent in returnDict:\n",
    "                returnDict[intent] +=1\n",
    "            else:\n",
    "                returnDict[intent] = 1\n",
    "    return returnDict\n",
    "\n",
    "educationSet = set(educationList)\n",
    "mapEducation = {\n",
    "    1:'Less than High School',\n",
    "    2:'Graduated from High School or equivalent',\n",
    "    3:'Some College',\n",
    "    4:'At least graduated from College',\n",
    "    5:'Not available'\n",
    "}\n",
    "for education in educationSet:\n",
    "    if education != 'NA':\n",
    "        print(mapEducation[int(education)],':\\n',intentEducation(education,data),'\\n')\n",
    "    else:\n",
    "        print(education,':\\n',intentEducation(education,data),'\\n')"
   ]
  },
  {
   "cell_type": "markdown",
   "metadata": {},
   "source": [
    "- The total amount of people for each education would help put those numbers into perspective. For now we can just compare the different intents for each education, or the evolution of the distribution of intents with education.\n",
    "- For people whom gratuated from college, `suicides` are 7 times more 'likely to happend' than `homicides`. The more you have education, the more the ratio `suicides` vs. `homicides` is in favor of `suicide`."
   ]
  },
  {
   "cell_type": "code",
   "execution_count": null,
   "metadata": {
    "collapsed": true
   },
   "outputs": [],
   "source": []
  }
 ],
 "metadata": {
  "kernelspec": {
   "display_name": "Python 3",
   "language": "python",
   "name": "python3"
  },
  "language_info": {
   "codemirror_mode": {
    "name": "ipython",
    "version": 3
   },
   "file_extension": ".py",
   "mimetype": "text/x-python",
   "name": "python",
   "nbconvert_exporter": "python",
   "pygments_lexer": "ipython3",
   "version": "3.6.0"
  }
 },
 "nbformat": 4,
 "nbformat_minor": 0
}
