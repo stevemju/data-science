{
 "cells": [
  {
   "cell_type": "markdown",
   "metadata": {},
   "source": [
    "# Predicting Car Prices\n",
    "With KNN Regression.\n",
    "\n",
    "Dataset from https://archive.ics.uci.edu/ml/datasets/automobile"
   ]
  },
  {
   "cell_type": "markdown",
   "metadata": {},
   "source": [
    "# Data Cleaning"
   ]
  },
  {
   "cell_type": "code",
   "execution_count": 1,
   "metadata": {
    "collapsed": false
   },
   "outputs": [
    {
     "data": {
      "text/html": [
       "<div>\n",
       "<table border=\"1\" class=\"dataframe\">\n",
       "  <thead>\n",
       "    <tr style=\"text-align: right;\">\n",
       "      <th></th>\n",
       "      <th>symboling</th>\n",
       "      <th>normalized-losses</th>\n",
       "      <th>make</th>\n",
       "      <th>fuel-type</th>\n",
       "      <th>aspiration</th>\n",
       "      <th>num-of-doors</th>\n",
       "      <th>body-style</th>\n",
       "      <th>drive-wheels</th>\n",
       "      <th>engine-location</th>\n",
       "      <th>wheel-base</th>\n",
       "      <th>...</th>\n",
       "      <th>engine-size</th>\n",
       "      <th>fuel-system</th>\n",
       "      <th>bore</th>\n",
       "      <th>stroke</th>\n",
       "      <th>compression-rate</th>\n",
       "      <th>horsepower</th>\n",
       "      <th>peak-rpm</th>\n",
       "      <th>city-mpg</th>\n",
       "      <th>highway-mpg</th>\n",
       "      <th>price</th>\n",
       "    </tr>\n",
       "  </thead>\n",
       "  <tbody>\n",
       "    <tr>\n",
       "      <th>0</th>\n",
       "      <td>3</td>\n",
       "      <td>?</td>\n",
       "      <td>alfa-romero</td>\n",
       "      <td>gas</td>\n",
       "      <td>std</td>\n",
       "      <td>two</td>\n",
       "      <td>convertible</td>\n",
       "      <td>rwd</td>\n",
       "      <td>front</td>\n",
       "      <td>88.6</td>\n",
       "      <td>...</td>\n",
       "      <td>130</td>\n",
       "      <td>mpfi</td>\n",
       "      <td>3.47</td>\n",
       "      <td>2.68</td>\n",
       "      <td>9.0</td>\n",
       "      <td>111</td>\n",
       "      <td>5000</td>\n",
       "      <td>21</td>\n",
       "      <td>27</td>\n",
       "      <td>13495</td>\n",
       "    </tr>\n",
       "    <tr>\n",
       "      <th>1</th>\n",
       "      <td>3</td>\n",
       "      <td>?</td>\n",
       "      <td>alfa-romero</td>\n",
       "      <td>gas</td>\n",
       "      <td>std</td>\n",
       "      <td>two</td>\n",
       "      <td>convertible</td>\n",
       "      <td>rwd</td>\n",
       "      <td>front</td>\n",
       "      <td>88.6</td>\n",
       "      <td>...</td>\n",
       "      <td>130</td>\n",
       "      <td>mpfi</td>\n",
       "      <td>3.47</td>\n",
       "      <td>2.68</td>\n",
       "      <td>9.0</td>\n",
       "      <td>111</td>\n",
       "      <td>5000</td>\n",
       "      <td>21</td>\n",
       "      <td>27</td>\n",
       "      <td>16500</td>\n",
       "    </tr>\n",
       "    <tr>\n",
       "      <th>2</th>\n",
       "      <td>1</td>\n",
       "      <td>?</td>\n",
       "      <td>alfa-romero</td>\n",
       "      <td>gas</td>\n",
       "      <td>std</td>\n",
       "      <td>two</td>\n",
       "      <td>hatchback</td>\n",
       "      <td>rwd</td>\n",
       "      <td>front</td>\n",
       "      <td>94.5</td>\n",
       "      <td>...</td>\n",
       "      <td>152</td>\n",
       "      <td>mpfi</td>\n",
       "      <td>2.68</td>\n",
       "      <td>3.47</td>\n",
       "      <td>9.0</td>\n",
       "      <td>154</td>\n",
       "      <td>5000</td>\n",
       "      <td>19</td>\n",
       "      <td>26</td>\n",
       "      <td>16500</td>\n",
       "    </tr>\n",
       "    <tr>\n",
       "      <th>3</th>\n",
       "      <td>2</td>\n",
       "      <td>164</td>\n",
       "      <td>audi</td>\n",
       "      <td>gas</td>\n",
       "      <td>std</td>\n",
       "      <td>four</td>\n",
       "      <td>sedan</td>\n",
       "      <td>fwd</td>\n",
       "      <td>front</td>\n",
       "      <td>99.8</td>\n",
       "      <td>...</td>\n",
       "      <td>109</td>\n",
       "      <td>mpfi</td>\n",
       "      <td>3.19</td>\n",
       "      <td>3.40</td>\n",
       "      <td>10.0</td>\n",
       "      <td>102</td>\n",
       "      <td>5500</td>\n",
       "      <td>24</td>\n",
       "      <td>30</td>\n",
       "      <td>13950</td>\n",
       "    </tr>\n",
       "    <tr>\n",
       "      <th>4</th>\n",
       "      <td>2</td>\n",
       "      <td>164</td>\n",
       "      <td>audi</td>\n",
       "      <td>gas</td>\n",
       "      <td>std</td>\n",
       "      <td>four</td>\n",
       "      <td>sedan</td>\n",
       "      <td>4wd</td>\n",
       "      <td>front</td>\n",
       "      <td>99.4</td>\n",
       "      <td>...</td>\n",
       "      <td>136</td>\n",
       "      <td>mpfi</td>\n",
       "      <td>3.19</td>\n",
       "      <td>3.40</td>\n",
       "      <td>8.0</td>\n",
       "      <td>115</td>\n",
       "      <td>5500</td>\n",
       "      <td>18</td>\n",
       "      <td>22</td>\n",
       "      <td>17450</td>\n",
       "    </tr>\n",
       "  </tbody>\n",
       "</table>\n",
       "<p>5 rows × 26 columns</p>\n",
       "</div>"
      ],
      "text/plain": [
       "   symboling normalized-losses         make fuel-type aspiration num-of-doors  \\\n",
       "0          3                 ?  alfa-romero       gas        std          two   \n",
       "1          3                 ?  alfa-romero       gas        std          two   \n",
       "2          1                 ?  alfa-romero       gas        std          two   \n",
       "3          2               164         audi       gas        std         four   \n",
       "4          2               164         audi       gas        std         four   \n",
       "\n",
       "    body-style drive-wheels engine-location  wheel-base  ...    engine-size  \\\n",
       "0  convertible          rwd           front        88.6  ...            130   \n",
       "1  convertible          rwd           front        88.6  ...            130   \n",
       "2    hatchback          rwd           front        94.5  ...            152   \n",
       "3        sedan          fwd           front        99.8  ...            109   \n",
       "4        sedan          4wd           front        99.4  ...            136   \n",
       "\n",
       "   fuel-system  bore  stroke compression-rate horsepower  peak-rpm city-mpg  \\\n",
       "0         mpfi  3.47    2.68              9.0        111      5000       21   \n",
       "1         mpfi  3.47    2.68              9.0        111      5000       21   \n",
       "2         mpfi  2.68    3.47              9.0        154      5000       19   \n",
       "3         mpfi  3.19    3.40             10.0        102      5500       24   \n",
       "4         mpfi  3.19    3.40              8.0        115      5500       18   \n",
       "\n",
       "  highway-mpg  price  \n",
       "0          27  13495  \n",
       "1          27  16500  \n",
       "2          26  16500  \n",
       "3          30  13950  \n",
       "4          22  17450  \n",
       "\n",
       "[5 rows x 26 columns]"
      ]
     },
     "execution_count": 1,
     "metadata": {},
     "output_type": "execute_result"
    }
   ],
   "source": [
    "import pandas as pd\n",
    "import numpy as np\n",
    "\n",
    "cols = ['symboling', 'normalized-losses', 'make', 'fuel-type', 'aspiration', 'num-of-doors', 'body-style', \n",
    "        'drive-wheels', 'engine-location', 'wheel-base', 'length', 'width', 'height', 'curb-weight', 'engine-type', \n",
    "        'num-of-cylinders', 'engine-size', 'fuel-system', 'bore', 'stroke', 'compression-rate', 'horsepower', 'peak-rpm', 'city-mpg', 'highway-mpg', 'price']\n",
    "cars = pd.read_csv('imports-85.data',names=cols)\n",
    "\n",
    "cars.head()"
   ]
  },
  {
   "cell_type": "code",
   "execution_count": 2,
   "metadata": {
    "collapsed": false
   },
   "outputs": [
    {
     "name": "stdout",
     "output_type": "stream",
     "text": [
      "<class 'pandas.core.frame.DataFrame'>\n",
      "RangeIndex: 205 entries, 0 to 204\n",
      "Data columns (total 26 columns):\n",
      "symboling            205 non-null int64\n",
      "normalized-losses    205 non-null object\n",
      "make                 205 non-null object\n",
      "fuel-type            205 non-null object\n",
      "aspiration           205 non-null object\n",
      "num-of-doors         205 non-null object\n",
      "body-style           205 non-null object\n",
      "drive-wheels         205 non-null object\n",
      "engine-location      205 non-null object\n",
      "wheel-base           205 non-null float64\n",
      "length               205 non-null float64\n",
      "width                205 non-null float64\n",
      "height               205 non-null float64\n",
      "curb-weight          205 non-null int64\n",
      "engine-type          205 non-null object\n",
      "num-of-cylinders     205 non-null object\n",
      "engine-size          205 non-null int64\n",
      "fuel-system          205 non-null object\n",
      "bore                 205 non-null object\n",
      "stroke               205 non-null object\n",
      "compression-rate     205 non-null float64\n",
      "horsepower           205 non-null object\n",
      "peak-rpm             205 non-null object\n",
      "city-mpg             205 non-null int64\n",
      "highway-mpg          205 non-null int64\n",
      "price                205 non-null object\n",
      "dtypes: float64(5), int64(5), object(16)\n",
      "memory usage: 41.7+ KB\n"
     ]
    }
   ],
   "source": [
    "cars.info()"
   ]
  },
  {
   "cell_type": "markdown",
   "metadata": {},
   "source": [
    "Numeric columns that can be used as features :\n",
    "- highway-mpg\n",
    "- city-mpg\n",
    "- compression-rate\n",
    "- curb-weight\n",
    "- height\n",
    "- width\n",
    "- length\n",
    "- wheel-base\n",
    "\n",
    "Non-numeric columns that can be used as features :\n",
    "- normalized-losses\n",
    "- peak-rpm\n",
    "- horsepower\n",
    "- stroke\n",
    "- bore"
   ]
  },
  {
   "cell_type": "code",
   "execution_count": 3,
   "metadata": {
    "collapsed": false
   },
   "outputs": [
    {
     "name": "stdout",
     "output_type": "stream",
     "text": [
      "<class 'pandas.core.frame.DataFrame'>\n",
      "RangeIndex: 205 entries, 0 to 204\n",
      "Data columns (total 14 columns):\n",
      "highway-mpg          205 non-null int64\n",
      "city-mpg             205 non-null int64\n",
      "compression-rate     205 non-null float64\n",
      "normalized-losses    164 non-null float64\n",
      "curb-weight          205 non-null int64\n",
      "height               205 non-null float64\n",
      "width                205 non-null float64\n",
      "length               205 non-null float64\n",
      "wheel-base           205 non-null float64\n",
      "peak-rpm             203 non-null float64\n",
      "horsepower           203 non-null float64\n",
      "stroke               201 non-null float64\n",
      "bore                 201 non-null float64\n",
      "price                201 non-null float64\n",
      "dtypes: float64(11), int64(3)\n",
      "memory usage: 22.5 KB\n"
     ]
    }
   ],
   "source": [
    "features = ['highway-mpg','city-mpg','compression-rate','normalized-losses','curb-weight','height','width','length','wheel-base','peak-rpm','horsepower','stroke','bore','price']\n",
    "cars = cars[features]            \n",
    "\n",
    "cars.replace('?',np.nan,inplace=True)\n",
    "cars[['normalized-losses','peak-rpm','horsepower','stroke','bore','price']] = cars[['normalized-losses','peak-rpm','horsepower','stroke','bore','price']].astype('float64')\n",
    "cars.info()"
   ]
  },
  {
   "cell_type": "code",
   "execution_count": 4,
   "metadata": {
    "collapsed": false
   },
   "outputs": [
    {
     "name": "stdout",
     "output_type": "stream",
     "text": [
      "<class 'pandas.core.frame.DataFrame'>\n",
      "Int64Index: 195 entries, 0 to 204\n",
      "Data columns (total 14 columns):\n",
      "highway-mpg          195 non-null int64\n",
      "city-mpg             195 non-null int64\n",
      "compression-rate     195 non-null float64\n",
      "normalized-losses    160 non-null float64\n",
      "curb-weight          195 non-null int64\n",
      "height               195 non-null float64\n",
      "width                195 non-null float64\n",
      "length               195 non-null float64\n",
      "wheel-base           195 non-null float64\n",
      "peak-rpm             195 non-null float64\n",
      "horsepower           195 non-null float64\n",
      "stroke               195 non-null float64\n",
      "bore                 195 non-null float64\n",
      "price                195 non-null float64\n",
      "dtypes: float64(11), int64(3)\n",
      "memory usage: 22.9 KB\n"
     ]
    }
   ],
   "source": [
    "# dealing with missing values \n",
    "cars.dropna(subset=['bore','stroke','horsepower','peak-rpm','price'],inplace=True)\n",
    "cars.info()"
   ]
  },
  {
   "cell_type": "code",
   "execution_count": 5,
   "metadata": {
    "collapsed": false
   },
   "outputs": [
    {
     "data": {
      "text/html": [
       "<div>\n",
       "<table border=\"1\" class=\"dataframe\">\n",
       "  <thead>\n",
       "    <tr style=\"text-align: right;\">\n",
       "      <th></th>\n",
       "      <th>highway-mpg</th>\n",
       "      <th>city-mpg</th>\n",
       "      <th>compression-rate</th>\n",
       "      <th>normalized-losses</th>\n",
       "      <th>curb-weight</th>\n",
       "      <th>height</th>\n",
       "      <th>width</th>\n",
       "      <th>length</th>\n",
       "      <th>wheel-base</th>\n",
       "      <th>peak-rpm</th>\n",
       "      <th>horsepower</th>\n",
       "      <th>stroke</th>\n",
       "      <th>bore</th>\n",
       "      <th>price</th>\n",
       "    </tr>\n",
       "  </thead>\n",
       "  <tbody>\n",
       "    <tr>\n",
       "      <th>0</th>\n",
       "      <td>27</td>\n",
       "      <td>21</td>\n",
       "      <td>9.0</td>\n",
       "      <td>121.3</td>\n",
       "      <td>2548</td>\n",
       "      <td>48.8</td>\n",
       "      <td>64.1</td>\n",
       "      <td>168.8</td>\n",
       "      <td>88.6</td>\n",
       "      <td>5000.0</td>\n",
       "      <td>111.0</td>\n",
       "      <td>2.68</td>\n",
       "      <td>3.47</td>\n",
       "      <td>13495.0</td>\n",
       "    </tr>\n",
       "    <tr>\n",
       "      <th>1</th>\n",
       "      <td>27</td>\n",
       "      <td>21</td>\n",
       "      <td>9.0</td>\n",
       "      <td>121.3</td>\n",
       "      <td>2548</td>\n",
       "      <td>48.8</td>\n",
       "      <td>64.1</td>\n",
       "      <td>168.8</td>\n",
       "      <td>88.6</td>\n",
       "      <td>5000.0</td>\n",
       "      <td>111.0</td>\n",
       "      <td>2.68</td>\n",
       "      <td>3.47</td>\n",
       "      <td>16500.0</td>\n",
       "    </tr>\n",
       "    <tr>\n",
       "      <th>2</th>\n",
       "      <td>26</td>\n",
       "      <td>19</td>\n",
       "      <td>9.0</td>\n",
       "      <td>121.3</td>\n",
       "      <td>2823</td>\n",
       "      <td>52.4</td>\n",
       "      <td>65.5</td>\n",
       "      <td>171.2</td>\n",
       "      <td>94.5</td>\n",
       "      <td>5000.0</td>\n",
       "      <td>154.0</td>\n",
       "      <td>3.47</td>\n",
       "      <td>2.68</td>\n",
       "      <td>16500.0</td>\n",
       "    </tr>\n",
       "    <tr>\n",
       "      <th>3</th>\n",
       "      <td>30</td>\n",
       "      <td>24</td>\n",
       "      <td>10.0</td>\n",
       "      <td>164.0</td>\n",
       "      <td>2337</td>\n",
       "      <td>54.3</td>\n",
       "      <td>66.2</td>\n",
       "      <td>176.6</td>\n",
       "      <td>99.8</td>\n",
       "      <td>5500.0</td>\n",
       "      <td>102.0</td>\n",
       "      <td>3.40</td>\n",
       "      <td>3.19</td>\n",
       "      <td>13950.0</td>\n",
       "    </tr>\n",
       "    <tr>\n",
       "      <th>4</th>\n",
       "      <td>22</td>\n",
       "      <td>18</td>\n",
       "      <td>8.0</td>\n",
       "      <td>164.0</td>\n",
       "      <td>2824</td>\n",
       "      <td>54.3</td>\n",
       "      <td>66.4</td>\n",
       "      <td>176.6</td>\n",
       "      <td>99.4</td>\n",
       "      <td>5500.0</td>\n",
       "      <td>115.0</td>\n",
       "      <td>3.40</td>\n",
       "      <td>3.19</td>\n",
       "      <td>17450.0</td>\n",
       "    </tr>\n",
       "  </tbody>\n",
       "</table>\n",
       "</div>"
      ],
      "text/plain": [
       "   highway-mpg  city-mpg  compression-rate  normalized-losses  curb-weight  \\\n",
       "0           27        21               9.0              121.3         2548   \n",
       "1           27        21               9.0              121.3         2548   \n",
       "2           26        19               9.0              121.3         2823   \n",
       "3           30        24              10.0              164.0         2337   \n",
       "4           22        18               8.0              164.0         2824   \n",
       "\n",
       "   height  width  length  wheel-base  peak-rpm  horsepower  stroke  bore  \\\n",
       "0    48.8   64.1   168.8        88.6    5000.0       111.0    2.68  3.47   \n",
       "1    48.8   64.1   168.8        88.6    5000.0       111.0    2.68  3.47   \n",
       "2    52.4   65.5   171.2        94.5    5000.0       154.0    3.47  2.68   \n",
       "3    54.3   66.2   176.6        99.8    5500.0       102.0    3.40  3.19   \n",
       "4    54.3   66.4   176.6        99.4    5500.0       115.0    3.40  3.19   \n",
       "\n",
       "     price  \n",
       "0  13495.0  \n",
       "1  16500.0  \n",
       "2  16500.0  \n",
       "3  13950.0  \n",
       "4  17450.0  "
      ]
     },
     "execution_count": 5,
     "metadata": {},
     "output_type": "execute_result"
    }
   ],
   "source": [
    "n_losses_mean = cars['normalized-losses'].mean()\n",
    "cars.replace(np.nan,n_losses_mean,inplace=True)\n",
    "cars.reset_index(inplace=True,drop=True)\n",
    "cars.head()"
   ]
  },
  {
   "cell_type": "code",
   "execution_count": 6,
   "metadata": {
    "collapsed": false
   },
   "outputs": [
    {
     "data": {
      "text/html": [
       "<div>\n",
       "<table border=\"1\" class=\"dataframe\">\n",
       "  <thead>\n",
       "    <tr style=\"text-align: right;\">\n",
       "      <th></th>\n",
       "      <th>highway-mpg</th>\n",
       "      <th>city-mpg</th>\n",
       "      <th>compression-rate</th>\n",
       "      <th>normalized-losses</th>\n",
       "      <th>curb-weight</th>\n",
       "      <th>height</th>\n",
       "      <th>width</th>\n",
       "      <th>length</th>\n",
       "      <th>wheel-base</th>\n",
       "      <th>peak-rpm</th>\n",
       "      <th>horsepower</th>\n",
       "      <th>stroke</th>\n",
       "      <th>bore</th>\n",
       "      <th>price</th>\n",
       "    </tr>\n",
       "  </thead>\n",
       "  <tbody>\n",
       "    <tr>\n",
       "      <th>0</th>\n",
       "      <td>0.289474</td>\n",
       "      <td>0.222222</td>\n",
       "      <td>0.1250</td>\n",
       "      <td>0.294764</td>\n",
       "      <td>0.411171</td>\n",
       "      <td>0.083333</td>\n",
       "      <td>0.324786</td>\n",
       "      <td>0.413433</td>\n",
       "      <td>0.058309</td>\n",
       "      <td>0.346939</td>\n",
       "      <td>0.294393</td>\n",
       "      <td>0.290476</td>\n",
       "      <td>0.664286</td>\n",
       "      <td>13495.0</td>\n",
       "    </tr>\n",
       "    <tr>\n",
       "      <th>1</th>\n",
       "      <td>0.289474</td>\n",
       "      <td>0.222222</td>\n",
       "      <td>0.1250</td>\n",
       "      <td>0.294764</td>\n",
       "      <td>0.411171</td>\n",
       "      <td>0.083333</td>\n",
       "      <td>0.324786</td>\n",
       "      <td>0.413433</td>\n",
       "      <td>0.058309</td>\n",
       "      <td>0.346939</td>\n",
       "      <td>0.294393</td>\n",
       "      <td>0.290476</td>\n",
       "      <td>0.664286</td>\n",
       "      <td>16500.0</td>\n",
       "    </tr>\n",
       "    <tr>\n",
       "      <th>2</th>\n",
       "      <td>0.263158</td>\n",
       "      <td>0.166667</td>\n",
       "      <td>0.1250</td>\n",
       "      <td>0.294764</td>\n",
       "      <td>0.517843</td>\n",
       "      <td>0.383333</td>\n",
       "      <td>0.444444</td>\n",
       "      <td>0.449254</td>\n",
       "      <td>0.230321</td>\n",
       "      <td>0.346939</td>\n",
       "      <td>0.495327</td>\n",
       "      <td>0.666667</td>\n",
       "      <td>0.100000</td>\n",
       "      <td>16500.0</td>\n",
       "    </tr>\n",
       "    <tr>\n",
       "      <th>3</th>\n",
       "      <td>0.368421</td>\n",
       "      <td>0.305556</td>\n",
       "      <td>0.1875</td>\n",
       "      <td>0.518325</td>\n",
       "      <td>0.329325</td>\n",
       "      <td>0.541667</td>\n",
       "      <td>0.504274</td>\n",
       "      <td>0.529851</td>\n",
       "      <td>0.384840</td>\n",
       "      <td>0.551020</td>\n",
       "      <td>0.252336</td>\n",
       "      <td>0.633333</td>\n",
       "      <td>0.464286</td>\n",
       "      <td>13950.0</td>\n",
       "    </tr>\n",
       "    <tr>\n",
       "      <th>4</th>\n",
       "      <td>0.157895</td>\n",
       "      <td>0.138889</td>\n",
       "      <td>0.0625</td>\n",
       "      <td>0.518325</td>\n",
       "      <td>0.518231</td>\n",
       "      <td>0.541667</td>\n",
       "      <td>0.521368</td>\n",
       "      <td>0.529851</td>\n",
       "      <td>0.373178</td>\n",
       "      <td>0.551020</td>\n",
       "      <td>0.313084</td>\n",
       "      <td>0.633333</td>\n",
       "      <td>0.464286</td>\n",
       "      <td>17450.0</td>\n",
       "    </tr>\n",
       "  </tbody>\n",
       "</table>\n",
       "</div>"
      ],
      "text/plain": [
       "   highway-mpg  city-mpg  compression-rate  normalized-losses  curb-weight  \\\n",
       "0     0.289474  0.222222            0.1250           0.294764     0.411171   \n",
       "1     0.289474  0.222222            0.1250           0.294764     0.411171   \n",
       "2     0.263158  0.166667            0.1250           0.294764     0.517843   \n",
       "3     0.368421  0.305556            0.1875           0.518325     0.329325   \n",
       "4     0.157895  0.138889            0.0625           0.518325     0.518231   \n",
       "\n",
       "     height     width    length  wheel-base  peak-rpm  horsepower    stroke  \\\n",
       "0  0.083333  0.324786  0.413433    0.058309  0.346939    0.294393  0.290476   \n",
       "1  0.083333  0.324786  0.413433    0.058309  0.346939    0.294393  0.290476   \n",
       "2  0.383333  0.444444  0.449254    0.230321  0.346939    0.495327  0.666667   \n",
       "3  0.541667  0.504274  0.529851    0.384840  0.551020    0.252336  0.633333   \n",
       "4  0.541667  0.521368  0.529851    0.373178  0.551020    0.313084  0.633333   \n",
       "\n",
       "       bore    price  \n",
       "0  0.664286  13495.0  \n",
       "1  0.664286  16500.0  \n",
       "2  0.100000  16500.0  \n",
       "3  0.464286  13950.0  \n",
       "4  0.464286  17450.0  "
      ]
     },
     "execution_count": 6,
     "metadata": {},
     "output_type": "execute_result"
    }
   ],
   "source": [
    "# normalization\n",
    "prices = cars['price']\n",
    "cars_norm = (cars-cars.min())/(cars.max() - cars.min())\n",
    "cars_norm['price'] = prices\n",
    "cars_norm.head()"
   ]
  },
  {
   "cell_type": "markdown",
   "metadata": {
    "collapsed": false
   },
   "source": [
    "# Machine learning\n",
    "## Simple univariate model"
   ]
  },
  {
   "cell_type": "code",
   "execution_count": 7,
   "metadata": {
    "collapsed": false
   },
   "outputs": [
    {
     "data": {
      "image/png": "[encoded data removed]",
      "text/plain": [
       "<matplotlib.figure.Figure at 0x11224a7b8>"
      ]
     },
     "metadata": {},
     "output_type": "display_data"
    }
   ],
   "source": [
    "from sklearn.neighbors import KNeighborsRegressor\n",
    "from sklearn.metrics import mean_squared_error\n",
    "import matplotlib.pyplot as plt\n",
    "%matplotlib inline\n",
    "import numpy as np\n",
    "\n",
    "def knn_train_test(training_cols,target_col,df,k):\n",
    "    # randomize the dataframe\n",
    "    np.random.seed(1)\n",
    "    shuffled_index = np.random.permutation(len(df))\n",
    "    df = df.reindex(shuffled_index)\n",
    "    \n",
    "    # we use 75% of the data to train and 25% to test\n",
    "    split = int(round(df.shape[0]*(3/4)))\n",
    "    train_set = df[:split]\n",
    "    test_set = df[split:]\n",
    "    \n",
    "    knn = KNeighborsRegressor(n_neighbors=k)\n",
    "    knn.fit(train_set[training_cols],train_set[target_col])\n",
    "    predictions = knn.predict(test_set[training_cols])\n",
    "    # errors\n",
    "    rmse = mean_squared_error(test_set[target_col],predictions)**(1/2)\n",
    "    return rmse\n",
    "\n",
    "rmses = []\n",
    "cols = ['highway-mpg','city-mpg','compression-rate','normalized-losses','curb-weight','height','width','length','wheel-base','peak-rpm','horsepower','stroke','bore']\n",
    "\n",
    "# testing the 'best' feature for this model (with k=5)\n",
    "\n",
    "for col in cols:\n",
    "    rmses.append(knn_train_test([col],'price',cars_norm,5))\n",
    "    \n",
    "x = np.arange(0,len(cols),1)\n",
    "plt.bar(x,rmses)\n",
    "plt.xticks(x,cols,rotation='vertical')\n",
    "plt.ylabel('rmse')\n",
    "plt.show()"
   ]
  },
  {
   "cell_type": "code",
   "execution_count": 8,
   "metadata": {
    "collapsed": false
   },
   "outputs": [
    {
     "data": {
      "text/plain": [
       "[('city-mpg', 3552.9576717353189),\n",
       " ('length', 3626.4605069079776),\n",
       " ('wheel-base', 3899.7840389185753),\n",
       " ('width', 4223.1961572791224),\n",
       " ('horsepower', 4418.7847150961479),\n",
       " ('highway-mpg', 4542.0785980672335),\n",
       " ('curb-weight', 4620.6786811339425),\n",
       " ('bore', 5517.1167296118783),\n",
       " ('normalized-losses', 5934.7566466966618),\n",
       " ('compression-rate', 6139.2346832749872),\n",
       " ('height', 6281.2936138723426),\n",
       " ('stroke', 6430.8000623910693),\n",
       " ('peak-rpm', 6864.1661678307182)]"
      ]
     },
     "execution_count": 8,
     "metadata": {},
     "output_type": "execute_result"
    }
   ],
   "source": [
    "# best features for k = 5\n",
    "rmses_dict = {}\n",
    "\n",
    "for k,value in enumerate(rmses):\n",
    "    rmses_dict[cols[k]] = value\n",
    "    \n",
    "import operator\n",
    "sorted_rmses = sorted(rmses_dict.items(), key=operator.itemgetter(1))\n",
    "sorted_rmses"
   ]
  },
  {
   "cell_type": "code",
   "execution_count": 9,
   "metadata": {
    "collapsed": false
   },
   "outputs": [
    {
     "data": {
      "text/plain": [
       "['city-mpg',\n",
       " 'length',\n",
       " 'wheel-base',\n",
       " 'width',\n",
       " 'horsepower',\n",
       " 'highway-mpg',\n",
       " 'curb-weight',\n",
       " 'bore',\n",
       " 'normalized-losses',\n",
       " 'compression-rate',\n",
       " 'height',\n",
       " 'stroke',\n",
       " 'peak-rpm']"
      ]
     },
     "execution_count": 9,
     "metadata": {},
     "output_type": "execute_result"
    }
   ],
   "source": [
    "sorted_columns = [el[0] for el in sorted_rmses]\n",
    "sorted_columns"
   ]
  },
  {
   "cell_type": "markdown",
   "metadata": {},
   "source": [
    "This is the list of the best features for this model, from best to worst."
   ]
  },
  {
   "cell_type": "code",
   "execution_count": 10,
   "metadata": {
    "collapsed": false
   },
   "outputs": [
    {
     "data": {
      "text/plain": [
       "{'bore': [4434.6104699745802,\n",
       "  4347.0419045286299,\n",
       "  5517.1167296118783,\n",
       "  5964.0232312137505,\n",
       "  6430.9350838473019],\n",
       " 'city-mpg': [3906.9111239714994,\n",
       "  3820.1778419026746,\n",
       "  3552.9576717353189,\n",
       "  3995.2156732419903,\n",
       "  3949.6061413712723],\n",
       " 'compression-rate': [7029.9015727426067,\n",
       "  6222.4495790783503,\n",
       "  6139.2346832749872,\n",
       "  5909.7298621974478,\n",
       "  6542.1293177819416],\n",
       " 'curb-weight': [4418.9637001986648,\n",
       "  5098.8751607351505,\n",
       "  4620.6786811339425,\n",
       "  4356.7140559445106,\n",
       "  4017.6427661719063],\n",
       " 'height': [8412.705262680649,\n",
       "  7317.4269872876575,\n",
       "  6281.2936138723426,\n",
       "  6211.5839476155934,\n",
       "  6210.5324844361649],\n",
       " 'highway-mpg': [5561.0011670194635,\n",
       "  4947.0694082616965,\n",
       "  4542.0785980672335,\n",
       "  4353.0568759127509,\n",
       "  4158.9973580404512],\n",
       " 'horsepower': [3101.5592523629734,\n",
       "  4250.7114375858991,\n",
       "  4418.7847150961479,\n",
       "  4832.2151383473856,\n",
       "  4608.4119119239122],\n",
       " 'length': [2786.2437299075218,\n",
       "  3414.0312523892117,\n",
       "  3626.4605069079776,\n",
       "  4027.9882080469065,\n",
       "  4095.7298657297929],\n",
       " 'normalized-losses': [5055.5354426850672,\n",
       "  6040.1833254829426,\n",
       "  5934.7566466966618,\n",
       "  6700.8769701196361,\n",
       "  6986.4874083930163],\n",
       " 'peak-rpm': [5771.1579232862969,\n",
       "  7297.807033700863,\n",
       "  6864.1661678307182,\n",
       "  6604.1823787754593,\n",
       "  6470.3146669729094],\n",
       " 'stroke': [11479.750246163272,\n",
       "  5708.1392069876156,\n",
       "  6430.8000623910693,\n",
       "  6677.0609218067921,\n",
       "  7432.5816249801765],\n",
       " 'wheel-base': [4227.7112324881091,\n",
       "  2720.8268696988575,\n",
       "  3899.7840389185753,\n",
       "  3895.4995830658195,\n",
       "  4030.9685962102403],\n",
       " 'width': [3349.9962930226216,\n",
       "  3510.3592098691161,\n",
       "  4223.1961572791224,\n",
       "  4180.3461334561607,\n",
       "  4207.6122134981306]}"
      ]
     },
     "execution_count": 10,
     "metadata": {},
     "output_type": "execute_result"
    }
   ],
   "source": [
    "# testing different k values for each feature\n",
    "k_list = [1,3,5,7,9]\n",
    "results = dict()\n",
    "\n",
    "for col in cols:\n",
    "    results[col] = []\n",
    "    for k in k_list:\n",
    "        results[col].append(knn_train_test([col],'price',cars_norm,k))\n",
    "\n",
    "results"
   ]
  },
  {
   "cell_type": "code",
   "execution_count": 53,
   "metadata": {
    "collapsed": false
   },
   "outputs": [
    {
     "data": {
      "image/png": "[encoded data removed]",
      "text/plain": [
       "<matplotlib.figure.Figure at 0x114c92b70>"
      ]
     },
     "metadata": {},
     "output_type": "display_data"
    }
   ],
   "source": [
    "for key,value in results.items():\n",
    "    plt.plot(np.arange(1,10,2),value)\n",
    "plt.xlabel('k value')\n",
    "plt.ylabel('RMSE')\n",
    "plt.show()"
   ]
  },
  {
   "cell_type": "markdown",
   "metadata": {},
   "source": [
    "The lowest RMSE is approx. 2720, reached with k = 3 and the feature 'wheel-base'."
   ]
  },
  {
   "cell_type": "markdown",
   "metadata": {
    "collapsed": true
   },
   "source": [
    "## Multivariate model\n",
    "Default k value (k = 5)"
   ]
  },
  {
   "cell_type": "code",
   "execution_count": 26,
   "metadata": {
    "collapsed": false
   },
   "outputs": [
    {
     "data": {
      "text/plain": [
       "{2: 3250.4180791060699,\n",
       " 3: 3304.5263174708025,\n",
       " 4: 3540.7998934865391,\n",
       " 5: 3210.9935170489853,\n",
       " 6: 3265.8299118388309,\n",
       " 7: 3050.3115079463942,\n",
       " 8: 3361.1439886819876,\n",
       " 9: 3598.358658372691,\n",
       " 10: 3800.3454542223622,\n",
       " 11: 3794.035959508135,\n",
       " 12: 3466.095531733371,\n",
       " 13: 3554.4428352960967}"
      ]
     },
     "execution_count": 26,
     "metadata": {},
     "output_type": "execute_result"
    }
   ],
   "source": [
    "# using the knn_train_test function with a list of training columns\n",
    "rmses_multi = {}\n",
    "\n",
    "# we first use the best 2 attributes, then the best 3, etc...\n",
    "for i in range(2,len(sorted_columns)+1):\n",
    "    rmses_multi[i] = knn_train_test(sorted_columns[:i],'price',cars_norm,5)\n",
    "rmses_multi"
   ]
  },
  {
   "cell_type": "markdown",
   "metadata": {},
   "source": [
    "The best result (3050) is achieved using the 7 best attributes out of 13.\n",
    "Let's vary `k` to see if the RMSE can go lower. I'm using the 3 best group of features from the previous step, which are 2, 5 and 7 (meaning the 2 best attributes, the 5 best, etc...)."
   ]
  },
  {
   "cell_type": "code",
   "execution_count": 107,
   "metadata": {
    "collapsed": false
   },
   "outputs": [
    {
     "data": {
      "image/png": "[encoded data removed]",
      "text/plain": [
       "<matplotlib.figure.Figure at 0x1150b4400>"
      ]
     },
     "metadata": {},
     "output_type": "display_data"
    }
   ],
   "source": [
    "# contain the RMSEs for each group\n",
    "values_2 = []\n",
    "values_5 = []\n",
    "values_7 = []\n",
    "\n",
    "for k in range(2,25):\n",
    "    values_2.append(knn_train_test(sorted_columns[:2],'price',cars_norm,k))\n",
    "    values_5.append(knn_train_test(sorted_columns[:5],'price',cars_norm,k))\n",
    "    values_7.append(knn_train_test(sorted_columns[:7],'price',cars_norm,k))\n",
    "        \n",
    "plt.plot(np.arange(2,25,1),values_2)\n",
    "plt.plot(np.arange(2,25,1),values_5)\n",
    "plt.plot(np.arange(2,25,1),values_7)\n",
    "plt.xlabel('k value')\n",
    "plt.ylabel('RMSE')\n",
    "plt.legend(['values_2','values_5','values_7'])\n",
    "plt.show()"
   ]
  },
  {
   "cell_type": "markdown",
   "metadata": {},
   "source": [
    "The best model seems to be the one including the 7 best attributes, which are :\n",
    "- city-mpg\n",
    "- length\n",
    "- wheel-base\n",
    "- width\n",
    "- horsepower\n",
    "- highway-mpg\n",
    "- curb-weight\n",
    "\n",
    "A small k value also greatly increases the strength of the model (except when only the 2 best attributes are used), as it can be seen on the previous graph."
   ]
  },
  {
   "cell_type": "markdown",
   "metadata": {},
   "source": [
    "## K-Fold Cross Validation"
   ]
  },
  {
   "cell_type": "code",
   "execution_count": 106,
   "metadata": {
    "collapsed": false
   },
   "outputs": [
    {
     "data": {
      "text/plain": [
       "3144.6303870123315"
      ]
     },
     "execution_count": 106,
     "metadata": {},
     "output_type": "execute_result"
    }
   ],
   "source": [
    "from sklearn.model_selection import cross_val_score, KFold\n",
    "\n",
    "# I am using 8 folds because the data is quite small, and 4 neighbors for the KNN algorithm\n",
    "kf = KFold(8,shuffle=True,random_state = np.random.seed(2))\n",
    "model = KNeighborsRegressor(n_neighbors=4)\n",
    "mses = cross_val_score(model,cars_norm[sorted_columns[:7]],cars_norm['price'],scoring='neg_mean_squared_error',cv=kf)\n",
    "rmses = [abs(mse)**(1/2) for mse in mses]\n",
    "avg_rmse = np.mean(rmses)\n",
    "\n",
    "avg_rmse"
   ]
  },
  {
   "cell_type": "code",
   "execution_count": null,
   "metadata": {
    "collapsed": false
   },
   "outputs": [],
   "source": []
  }
 ],
 "metadata": {
  "kernelspec": {
   "display_name": "Python 3",
   "language": "python",
   "name": "python3"
  },
  "language_info": {
   "codemirror_mode": {
    "name": "ipython",
    "version": 3
   },
   "file_extension": ".py",
   "mimetype": "text/x-python",
   "name": "python",
   "nbconvert_exporter": "python",
   "pygments_lexer": "ipython3",
   "version": "3.6.0"
  }
 },
 "nbformat": 4,
 "nbformat_minor": 2
}
